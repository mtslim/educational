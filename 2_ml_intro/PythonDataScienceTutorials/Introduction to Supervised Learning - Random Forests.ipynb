{
 "cells": [
  {
   "cell_type": "markdown",
   "metadata": {},
   "source": [
    "# Supervised Learning\n",
    "## Enter the Random Forest\n",
    "This notebook considers what is known as supervised learning. This kind of machine learning is structured, you have data on the outcomes you wish to predict as well as the variables you will use for prediction, you also know the variables of interest and are looking to apply a specific algorithm using these variables to predict outcomes.\n",
    "\n",
    "Supervised refers to the fact that data on outcomes is available so that the computer 'knows' what its target is directly. We have in fact already seen an example of supervised learning when we were introduced to Sci-Kit Learn - Ordinary Least Squares regression. Generally supervised problems are split into regression problems where a numerical quantitative outcome is given and classification problems where a given data point is to be placed in one of several categories. In this tutorial we consider a classification problem but Random Forest models can be used for either type of supervised learning problem. \n",
    "\n",
    "In later tutorials we will move on to unsupervised learning where the nature of the predictions desired is known but there is no quantitative data on what the outcome should look like.\n",
    "\n",
    "A decision tree is a set of nodes at each of which a choice is made, often binary True/False or Yes/No decisions but this can be extended to numerical analysis too. Running this on its own to calibrate it with data will give a single outcome at the bottom of the decision tree. This is easy to interpret since we can see the path through the decision tree and can relate decisions back to the data.\n",
    "\n",
    "A 'Random Forest' is a collection of decision trees for this reason it is known as an 'ensemble' method since it uses the outputs of many submodels (the individual trees) to form its overall output. This means that the process can be run many many times and either the modal or mean outcome given. This provides greater accuracy since the model is no longer limited to producing a single outcome but can consider many outputs. However, this accuracy comes at the cost of interpretation since it is hard to break the model down to understand decisions in each tree and then how they contribute to the overall outcome. The idea is that one decision tree may not be accurate, but an entire forest of independent trees will provide higher accuracy because noise is canceled out and signal is strengthened.\n",
    "\n",
    "In building a Random Forest model samples of the data are taken to construct each decision tree. The number of trees is designer choice. A greater number of trees allows finer precision in the output but requires more data since the data is shared between all of the trees.  At every node of each tree, a random sample of features is used. This sample-taking allows the forest of trees to identify data features that are truly important, not arbitrary.\n",
    "\n",
    "In Summary of Random Forest Models: \n",
    ">#### Pros\n",
    ">* Highly Accurate\n",
    ">* Fast to Train\n",
    ">* Able to Manage Many Input Variables (Removes the Need to Choose a Subset of Data for Training/Prediction)\n",
    ">* Able to Work with Numeric and Catgeorical Data\n",
    ">* Able to Perform Regression as well as Categorisation Tasks\n",
    "\n",
    ">#### Cons\n",
    ">* Hard to Interpret the Calibration\n",
    ">* Prone to Overfitting Noisy Data\n",
    ">* Cannot deal with Features or Characteristics not Present in the Training Data"
   ]
  },
  {
   "cell_type": "markdown",
   "metadata": {},
   "source": [
    "As always lets begin by importing the Python packages we know and love to get us started. We also import various elements of Sci-Kit Learn including the Random Forest classifier model and the utility that splits our dataset into testing and training data that we saw in our introduction to Sci-Kit Learn.\n",
    "\n",
    "Doumentation for Sci-Kit Learn's Random Forest classifier is available <a href=\"http://scikit-learn.org/stable/modules/generated/sklearn.ensemble.RandomForestClassifier.html\">here</a>."
   ]
  },
  {
   "cell_type": "code",
   "execution_count": 1,
   "metadata": {
    "collapsed": true
   },
   "outputs": [],
   "source": [
    "%matplotlib inline\n",
    "import pandas as pd\n",
    "import numpy as np\n",
    "import matplotlib.pyplot as plt\n",
    "\n",
    "from sklearn import preprocessing\n",
    "from sklearn.model_selection import train_test_split\n",
    "from sklearn.ensemble import RandomForestClassifier"
   ]
  },
  {
   "cell_type": "markdown",
   "metadata": {
    "collapsed": true
   },
   "source": [
    "The data used in this example was originally from <a href=\"http://archive.ics.uci.edu/ml/index.php\">UC Irvine's machine learning data repository</a>. However, it is no longer available from there so we will be using a local copy. Please change the path to reflect where you have stored the data.\n",
    "\n",
    "It is data on student alcohol consumption from Portugal with variables denoting the amount of alcohol consumed alongside the day of the week of consumption and general demographic information on the survey participants.\n",
    "\n",
    "It's a csv file but it isn't. That's to say its a csv file with semicolons in place of commas (so an ssv file?). Pandas can handle this so let's use that to read in the file. And take a peek at the data."
   ]
  },
  {
   "cell_type": "markdown",
   "metadata": {},
   "source": [
    "## Data"
   ]
  },
  {
   "cell_type": "code",
   "execution_count": 2,
   "metadata": {
    "collapsed": false
   },
   "outputs": [
    {
     "data": {
      "text/html": [
       "<div>\n",
       "<table border=\"1\" class=\"dataframe\">\n",
       "  <thead>\n",
       "    <tr style=\"text-align: right;\">\n",
       "      <th></th>\n",
       "      <th>school</th>\n",
       "      <th>sex</th>\n",
       "      <th>age</th>\n",
       "      <th>address</th>\n",
       "      <th>famsize</th>\n",
       "      <th>Pstatus</th>\n",
       "      <th>Medu</th>\n",
       "      <th>Fedu</th>\n",
       "      <th>Mjob</th>\n",
       "      <th>Fjob</th>\n",
       "      <th>...</th>\n",
       "      <th>famrel</th>\n",
       "      <th>freetime</th>\n",
       "      <th>goout</th>\n",
       "      <th>Dalc</th>\n",
       "      <th>Walc</th>\n",
       "      <th>health</th>\n",
       "      <th>absences</th>\n",
       "      <th>G1</th>\n",
       "      <th>G2</th>\n",
       "      <th>G3</th>\n",
       "    </tr>\n",
       "  </thead>\n",
       "  <tbody>\n",
       "    <tr>\n",
       "      <th>0</th>\n",
       "      <td>GP</td>\n",
       "      <td>F</td>\n",
       "      <td>18</td>\n",
       "      <td>U</td>\n",
       "      <td>GT3</td>\n",
       "      <td>A</td>\n",
       "      <td>4</td>\n",
       "      <td>4</td>\n",
       "      <td>at_home</td>\n",
       "      <td>teacher</td>\n",
       "      <td>...</td>\n",
       "      <td>4</td>\n",
       "      <td>3</td>\n",
       "      <td>4</td>\n",
       "      <td>1</td>\n",
       "      <td>1</td>\n",
       "      <td>3</td>\n",
       "      <td>4</td>\n",
       "      <td>0</td>\n",
       "      <td>11</td>\n",
       "      <td>11</td>\n",
       "    </tr>\n",
       "    <tr>\n",
       "      <th>1</th>\n",
       "      <td>GP</td>\n",
       "      <td>F</td>\n",
       "      <td>17</td>\n",
       "      <td>U</td>\n",
       "      <td>GT3</td>\n",
       "      <td>T</td>\n",
       "      <td>1</td>\n",
       "      <td>1</td>\n",
       "      <td>at_home</td>\n",
       "      <td>other</td>\n",
       "      <td>...</td>\n",
       "      <td>5</td>\n",
       "      <td>3</td>\n",
       "      <td>3</td>\n",
       "      <td>1</td>\n",
       "      <td>1</td>\n",
       "      <td>3</td>\n",
       "      <td>2</td>\n",
       "      <td>9</td>\n",
       "      <td>11</td>\n",
       "      <td>11</td>\n",
       "    </tr>\n",
       "    <tr>\n",
       "      <th>2</th>\n",
       "      <td>GP</td>\n",
       "      <td>F</td>\n",
       "      <td>15</td>\n",
       "      <td>U</td>\n",
       "      <td>LE3</td>\n",
       "      <td>T</td>\n",
       "      <td>1</td>\n",
       "      <td>1</td>\n",
       "      <td>at_home</td>\n",
       "      <td>other</td>\n",
       "      <td>...</td>\n",
       "      <td>4</td>\n",
       "      <td>3</td>\n",
       "      <td>2</td>\n",
       "      <td>2</td>\n",
       "      <td>3</td>\n",
       "      <td>3</td>\n",
       "      <td>6</td>\n",
       "      <td>12</td>\n",
       "      <td>13</td>\n",
       "      <td>12</td>\n",
       "    </tr>\n",
       "    <tr>\n",
       "      <th>3</th>\n",
       "      <td>GP</td>\n",
       "      <td>F</td>\n",
       "      <td>15</td>\n",
       "      <td>U</td>\n",
       "      <td>GT3</td>\n",
       "      <td>T</td>\n",
       "      <td>4</td>\n",
       "      <td>2</td>\n",
       "      <td>health</td>\n",
       "      <td>services</td>\n",
       "      <td>...</td>\n",
       "      <td>3</td>\n",
       "      <td>2</td>\n",
       "      <td>2</td>\n",
       "      <td>1</td>\n",
       "      <td>1</td>\n",
       "      <td>5</td>\n",
       "      <td>0</td>\n",
       "      <td>14</td>\n",
       "      <td>14</td>\n",
       "      <td>14</td>\n",
       "    </tr>\n",
       "    <tr>\n",
       "      <th>4</th>\n",
       "      <td>GP</td>\n",
       "      <td>F</td>\n",
       "      <td>16</td>\n",
       "      <td>U</td>\n",
       "      <td>GT3</td>\n",
       "      <td>T</td>\n",
       "      <td>3</td>\n",
       "      <td>3</td>\n",
       "      <td>other</td>\n",
       "      <td>other</td>\n",
       "      <td>...</td>\n",
       "      <td>4</td>\n",
       "      <td>3</td>\n",
       "      <td>2</td>\n",
       "      <td>1</td>\n",
       "      <td>2</td>\n",
       "      <td>5</td>\n",
       "      <td>0</td>\n",
       "      <td>11</td>\n",
       "      <td>13</td>\n",
       "      <td>13</td>\n",
       "    </tr>\n",
       "  </tbody>\n",
       "</table>\n",
       "<p>5 rows × 33 columns</p>\n",
       "</div>"
      ],
      "text/plain": [
       "  school sex  age address famsize Pstatus  Medu  Fedu     Mjob      Fjob ...  \\\n",
       "0     GP   F   18       U     GT3       A     4     4  at_home   teacher ...   \n",
       "1     GP   F   17       U     GT3       T     1     1  at_home     other ...   \n",
       "2     GP   F   15       U     LE3       T     1     1  at_home     other ...   \n",
       "3     GP   F   15       U     GT3       T     4     2   health  services ...   \n",
       "4     GP   F   16       U     GT3       T     3     3    other     other ...   \n",
       "\n",
       "  famrel freetime  goout  Dalc  Walc health absences  G1  G2  G3  \n",
       "0      4        3      4     1     1      3        4   0  11  11  \n",
       "1      5        3      3     1     1      3        2   9  11  11  \n",
       "2      4        3      2     2     3      3        6  12  13  12  \n",
       "3      3        2      2     1     1      5        0  14  14  14  \n",
       "4      4        3      2     1     2      5        0  11  13  13  \n",
       "\n",
       "[5 rows x 33 columns]"
      ]
     },
     "execution_count": 2,
     "metadata": {},
     "output_type": "execute_result"
    }
   ],
   "source": [
    "alcohol_data = pd.read_csv('C:/Users/DaviesI/Documents/Data Science Workshop/Data/student-alcohol-consumption.csv', sep=';')\n",
    "alcohol_data.head()"
   ]
  },
  {
   "cell_type": "code",
   "execution_count": 3,
   "metadata": {
    "collapsed": false
   },
   "outputs": [
    {
     "data": {
      "text/plain": [
       "(649, 33)"
      ]
     },
     "execution_count": 3,
     "metadata": {},
     "output_type": "execute_result"
    }
   ],
   "source": [
    "alcohol_data.shape"
   ]
  },
  {
   "cell_type": "code",
   "execution_count": 4,
   "metadata": {
    "collapsed": false
   },
   "outputs": [
    {
     "name": "stdout",
     "output_type": "stream",
     "text": [
      "<class 'pandas.core.frame.DataFrame'>\n",
      "RangeIndex: 649 entries, 0 to 648\n",
      "Data columns (total 33 columns):\n",
      "school        649 non-null object\n",
      "sex           649 non-null object\n",
      "age           649 non-null int64\n",
      "address       649 non-null object\n",
      "famsize       649 non-null object\n",
      "Pstatus       649 non-null object\n",
      "Medu          649 non-null int64\n",
      "Fedu          649 non-null int64\n",
      "Mjob          649 non-null object\n",
      "Fjob          649 non-null object\n",
      "reason        649 non-null object\n",
      "guardian      649 non-null object\n",
      "traveltime    649 non-null int64\n",
      "studytime     649 non-null int64\n",
      "failures      649 non-null int64\n",
      "schoolsup     649 non-null object\n",
      "famsup        649 non-null object\n",
      "paid          649 non-null object\n",
      "activities    649 non-null object\n",
      "nursery       649 non-null object\n",
      "higher        649 non-null object\n",
      "internet      649 non-null object\n",
      "romantic      649 non-null object\n",
      "famrel        649 non-null int64\n",
      "freetime      649 non-null int64\n",
      "goout         649 non-null int64\n",
      "Dalc          649 non-null int64\n",
      "Walc          649 non-null int64\n",
      "health        649 non-null int64\n",
      "absences      649 non-null int64\n",
      "G1            649 non-null int64\n",
      "G2            649 non-null int64\n",
      "G3            649 non-null int64\n",
      "dtypes: int64(16), object(17)\n",
      "memory usage: 167.4+ KB\n"
     ]
    }
   ],
   "source": [
    "alcohol_data.info()"
   ]
  },
  {
   "cell_type": "markdown",
   "metadata": {
    "collapsed": true
   },
   "source": [
    "We will now build a model to estimate alcohol consumption using the other variables in our dataset. But first...\n",
    "\n",
    "Data Cleansing! What we data scientists love (have) to do.\n",
    "\n",
    "For the data such as Fjob and Mjob we can't use the data in its current form since it is text and we want to work with categories. Let's set up category mappings to values for such variables so that we can use it to grow our random forest. We also either need to drop or categorise the numerical variables since our decision trees will only make category choices.\n",
    "\n",
    "Given the information on the data types and the first few rows of the dataset seen above let's list out the numerical and nominal variables."
   ]
  },
  {
   "cell_type": "code",
   "execution_count": 5,
   "metadata": {
    "collapsed": false
   },
   "outputs": [],
   "source": [
    "numeric_vars = ['age', 'Medu', 'Fedu', 'traveltime', 'studytime', 'failures', \n",
    "                'famrel', 'freetime', 'goout', 'Dalc', 'Walc', 'health', 'absences', 'G1', 'G2', 'G3']"
   ]
  },
  {
   "cell_type": "markdown",
   "metadata": {
    "collapsed": false
   },
   "source": [
    "Now we can separate this data out into its own dataframe."
   ]
  },
  {
   "cell_type": "code",
   "execution_count": 6,
   "metadata": {
    "collapsed": true
   },
   "outputs": [],
   "source": [
    "rf_data = alcohol_data[numeric_vars]"
   ]
  },
  {
   "cell_type": "markdown",
   "metadata": {},
   "source": [
    "Now we may pandas's label encoder to convert these variables into categorical ones.\n",
    "\n",
    "Label encoder converts string values to 0, 1, ... in alphabetical order thereby rendering text categories numeric."
   ]
  },
  {
   "cell_type": "code",
   "execution_count": 59,
   "metadata": {
    "collapsed": false
   },
   "outputs": [],
   "source": [
    "for column in alcohol_data.columns:\n",
    "    if column not in numeric_vars:\n",
    "        label_encoder = preprocessing.LabelEncoder()\n",
    "        rf_data.ix[:, column] = label_encoder.fit_transform(alcohol_data.ix[:, column])\n",
    "        rf_data.ix[:,column] = rf_data.ix[:, column].astype('category')"
   ]
  },
  {
   "cell_type": "markdown",
   "metadata": {},
   "source": [
    "We can look back to the original dataset to see the string value associated to the numerical categories that we now have."
   ]
  },
  {
   "cell_type": "code",
   "execution_count": 8,
   "metadata": {
    "collapsed": false
   },
   "outputs": [
    {
     "name": "stdout",
     "output_type": "stream",
     "text": [
      "0  :  at_home\n",
      "1  :  health\n",
      "2  :  other\n",
      "3  :  services\n",
      "4  :  teacher\n"
     ]
    }
   ],
   "source": [
    "for i in range(5):\n",
    "    print(i, \" : \", sorted(alcohol_data['Fjob'].unique())[i])"
   ]
  },
  {
   "cell_type": "markdown",
   "metadata": {},
   "source": [
    "Before we start modelling let's look at the amount students are drinking during the week and at weekends to see how this data looks."
   ]
  },
  {
   "cell_type": "code",
   "execution_count": 9,
   "metadata": {
    "collapsed": false
   },
   "outputs": [
    {
     "data": {
      "text/plain": [
       "1    451\n",
       "2    121\n",
       "3     43\n",
       "5     17\n",
       "4     17\n",
       "Name: Dalc, dtype: int64"
      ]
     },
     "execution_count": 9,
     "metadata": {},
     "output_type": "execute_result"
    }
   ],
   "source": [
    "alcohol_data['Dalc'].value_counts()"
   ]
  },
  {
   "cell_type": "code",
   "execution_count": 10,
   "metadata": {
    "collapsed": false
   },
   "outputs": [
    {
     "data": {
      "text/plain": [
       "1    247\n",
       "2    150\n",
       "3    120\n",
       "4     87\n",
       "5     45\n",
       "Name: Walc, dtype: int64"
      ]
     },
     "execution_count": 10,
     "metadata": {},
     "output_type": "execute_result"
    }
   ],
   "source": [
    "alcohol_data['Walc'].value_counts()"
   ]
  },
  {
   "cell_type": "markdown",
   "metadata": {},
   "source": [
    "Modelling with 5 levels of drinking intensity may be difficult. To make things easier let's map 1 and 2 to 0 for 'light drinkers' and 3 through 5 to 1 for 'heavy drinkers' a binary split that keeps the weekend/weekday split and will simplify analysis and modelling. These mapped values will be stored in new variables in our dataframe 'Dalc_mapped' and 'Walc_mapped' for weekday and weekend drinkers accordingly."
   ]
  },
  {
   "cell_type": "code",
   "execution_count": 11,
   "metadata": {
    "collapsed": true
   },
   "outputs": [],
   "source": [
    "alc_mapping = {1: 0, 2: 0, 3: 1, 4: 1, 5:1}"
   ]
  },
  {
   "cell_type": "code",
   "execution_count": 12,
   "metadata": {
    "collapsed": true
   },
   "outputs": [],
   "source": [
    "rf_data['Dalc_mapped'] = rf_data['Dalc'].map(alc_mapping)\n",
    "rf_data['Walc_mapped'] = rf_data['Walc'].map(alc_mapping)"
   ]
  },
  {
   "cell_type": "code",
   "execution_count": 13,
   "metadata": {
    "collapsed": false
   },
   "outputs": [
    {
     "data": {
      "text/html": [
       "<div>\n",
       "<table border=\"1\" class=\"dataframe\">\n",
       "  <thead>\n",
       "    <tr style=\"text-align: right;\">\n",
       "      <th></th>\n",
       "      <th>age</th>\n",
       "      <th>Medu</th>\n",
       "      <th>Fedu</th>\n",
       "      <th>traveltime</th>\n",
       "      <th>studytime</th>\n",
       "      <th>failures</th>\n",
       "      <th>famrel</th>\n",
       "      <th>freetime</th>\n",
       "      <th>goout</th>\n",
       "      <th>Dalc</th>\n",
       "      <th>...</th>\n",
       "      <th>schoolsup</th>\n",
       "      <th>famsup</th>\n",
       "      <th>paid</th>\n",
       "      <th>activities</th>\n",
       "      <th>nursery</th>\n",
       "      <th>higher</th>\n",
       "      <th>internet</th>\n",
       "      <th>romantic</th>\n",
       "      <th>Dalc_mapped</th>\n",
       "      <th>Walc_mapped</th>\n",
       "    </tr>\n",
       "  </thead>\n",
       "  <tbody>\n",
       "    <tr>\n",
       "      <th>0</th>\n",
       "      <td>18</td>\n",
       "      <td>4</td>\n",
       "      <td>4</td>\n",
       "      <td>2</td>\n",
       "      <td>2</td>\n",
       "      <td>0</td>\n",
       "      <td>4</td>\n",
       "      <td>3</td>\n",
       "      <td>4</td>\n",
       "      <td>1</td>\n",
       "      <td>...</td>\n",
       "      <td>1</td>\n",
       "      <td>0</td>\n",
       "      <td>0</td>\n",
       "      <td>0</td>\n",
       "      <td>1</td>\n",
       "      <td>1</td>\n",
       "      <td>0</td>\n",
       "      <td>0</td>\n",
       "      <td>0</td>\n",
       "      <td>0</td>\n",
       "    </tr>\n",
       "    <tr>\n",
       "      <th>1</th>\n",
       "      <td>17</td>\n",
       "      <td>1</td>\n",
       "      <td>1</td>\n",
       "      <td>1</td>\n",
       "      <td>2</td>\n",
       "      <td>0</td>\n",
       "      <td>5</td>\n",
       "      <td>3</td>\n",
       "      <td>3</td>\n",
       "      <td>1</td>\n",
       "      <td>...</td>\n",
       "      <td>0</td>\n",
       "      <td>1</td>\n",
       "      <td>0</td>\n",
       "      <td>0</td>\n",
       "      <td>0</td>\n",
       "      <td>1</td>\n",
       "      <td>1</td>\n",
       "      <td>0</td>\n",
       "      <td>0</td>\n",
       "      <td>0</td>\n",
       "    </tr>\n",
       "    <tr>\n",
       "      <th>2</th>\n",
       "      <td>15</td>\n",
       "      <td>1</td>\n",
       "      <td>1</td>\n",
       "      <td>1</td>\n",
       "      <td>2</td>\n",
       "      <td>0</td>\n",
       "      <td>4</td>\n",
       "      <td>3</td>\n",
       "      <td>2</td>\n",
       "      <td>2</td>\n",
       "      <td>...</td>\n",
       "      <td>1</td>\n",
       "      <td>0</td>\n",
       "      <td>0</td>\n",
       "      <td>0</td>\n",
       "      <td>1</td>\n",
       "      <td>1</td>\n",
       "      <td>1</td>\n",
       "      <td>0</td>\n",
       "      <td>0</td>\n",
       "      <td>1</td>\n",
       "    </tr>\n",
       "    <tr>\n",
       "      <th>3</th>\n",
       "      <td>15</td>\n",
       "      <td>4</td>\n",
       "      <td>2</td>\n",
       "      <td>1</td>\n",
       "      <td>3</td>\n",
       "      <td>0</td>\n",
       "      <td>3</td>\n",
       "      <td>2</td>\n",
       "      <td>2</td>\n",
       "      <td>1</td>\n",
       "      <td>...</td>\n",
       "      <td>0</td>\n",
       "      <td>1</td>\n",
       "      <td>0</td>\n",
       "      <td>1</td>\n",
       "      <td>1</td>\n",
       "      <td>1</td>\n",
       "      <td>1</td>\n",
       "      <td>1</td>\n",
       "      <td>0</td>\n",
       "      <td>0</td>\n",
       "    </tr>\n",
       "    <tr>\n",
       "      <th>4</th>\n",
       "      <td>16</td>\n",
       "      <td>3</td>\n",
       "      <td>3</td>\n",
       "      <td>1</td>\n",
       "      <td>2</td>\n",
       "      <td>0</td>\n",
       "      <td>4</td>\n",
       "      <td>3</td>\n",
       "      <td>2</td>\n",
       "      <td>1</td>\n",
       "      <td>...</td>\n",
       "      <td>0</td>\n",
       "      <td>1</td>\n",
       "      <td>0</td>\n",
       "      <td>0</td>\n",
       "      <td>1</td>\n",
       "      <td>1</td>\n",
       "      <td>0</td>\n",
       "      <td>0</td>\n",
       "      <td>0</td>\n",
       "      <td>0</td>\n",
       "    </tr>\n",
       "  </tbody>\n",
       "</table>\n",
       "<p>5 rows × 35 columns</p>\n",
       "</div>"
      ],
      "text/plain": [
       "   age  Medu  Fedu  traveltime  studytime  failures  famrel  freetime  goout  \\\n",
       "0   18     4     4           2          2         0       4         3      4   \n",
       "1   17     1     1           1          2         0       5         3      3   \n",
       "2   15     1     1           1          2         0       4         3      2   \n",
       "3   15     4     2           1          3         0       3         2      2   \n",
       "4   16     3     3           1          2         0       4         3      2   \n",
       "\n",
       "   Dalc     ...      schoolsup  famsup  paid  activities  nursery  higher  \\\n",
       "0     1     ...              1       0     0           0        1       1   \n",
       "1     1     ...              0       1     0           0        0       1   \n",
       "2     2     ...              1       0     0           0        1       1   \n",
       "3     1     ...              0       1     0           1        1       1   \n",
       "4     1     ...              0       1     0           0        1       1   \n",
       "\n",
       "  internet romantic Dalc_mapped Walc_mapped  \n",
       "0        0        0           0           0  \n",
       "1        1        0           0           0  \n",
       "2        1        0           0           1  \n",
       "3        1        1           0           0  \n",
       "4        0        0           0           0  \n",
       "\n",
       "[5 rows x 35 columns]"
      ]
     },
     "execution_count": 13,
     "metadata": {},
     "output_type": "execute_result"
    }
   ],
   "source": [
    "rf_data.head()"
   ]
  },
  {
   "cell_type": "markdown",
   "metadata": {},
   "source": [
    "## The Model\n",
    "In this case as is the case in most supervised learning problems the modelling consists of three steps: split the data for training and testing (usually using 60% - 80% of the data for training and saving the remainder for testing), then as one may expect train the model and finally test, interperet and apply the model.\n",
    "\n",
    "Let's start by preparing and splitting our data and preparing the data so that we may predict the weekend drinking nature of the studnet in question using only (what we determine to be relevant) data."
   ]
  },
  {
   "cell_type": "code",
   "execution_count": 14,
   "metadata": {
    "collapsed": true
   },
   "outputs": [],
   "source": [
    "features = rf_data.columns\n",
    "features = features.drop(['G1', 'G2', 'Mjob', 'Fjob', 'Dalc', 'Walc', 'Dalc_mapped', 'Walc_mapped'])\n",
    "target = 'Walc_mapped'"
   ]
  },
  {
   "cell_type": "code",
   "execution_count": 15,
   "metadata": {
    "collapsed": true
   },
   "outputs": [],
   "source": [
    "predictor_variables = rf_data[features]\n",
    "target_data = rf_data[target]"
   ]
  },
  {
   "cell_type": "code",
   "execution_count": 16,
   "metadata": {
    "collapsed": true
   },
   "outputs": [],
   "source": [
    "predictors_train, predictors_test, target_train, target_test = train_test_split(predictor_variables, target_data, test_size=0.3)"
   ]
  },
  {
   "cell_type": "markdown",
   "metadata": {},
   "source": [
    "Now let's take a quick look at what we have now."
   ]
  },
  {
   "cell_type": "code",
   "execution_count": 17,
   "metadata": {
    "collapsed": false
   },
   "outputs": [
    {
     "data": {
      "text/plain": [
       "((454, 27), (195, 27), (454,), (195,))"
      ]
     },
     "execution_count": 17,
     "metadata": {},
     "output_type": "execute_result"
    }
   ],
   "source": [
    "predictors_train.shape, predictors_test.shape, target_train.shape, target_test.shape"
   ]
  },
  {
   "cell_type": "markdown",
   "metadata": {},
   "source": [
    "We will now use the data on the 27 features we have chosen to estimate the drinking habits of Potugese studnets. You probably didn't think you'd be concerned with that today.\n",
    "\n",
    "Time to initialise and train our model. We'll use a forest of 100 decision trees and a seed for random number generation of 1864."
   ]
  },
  {
   "cell_type": "code",
   "execution_count": 18,
   "metadata": {
    "collapsed": true
   },
   "outputs": [],
   "source": [
    "rf_model = RandomForestClassifier(n_estimators = 100, random_state = 1864)\n",
    "\n",
    "rf_model = rf_model.fit(predictors_train, target_train)"
   ]
  },
  {
   "cell_type": "markdown",
   "metadata": {},
   "source": [
    "### Using the Model\n",
    "Now that we have constructed the model we can test it and apply it.\n",
    "\n",
    "Before application let's test how good our model is using the data we saved up for testing. Sci-Kit Learn's measure of fit for random forest models is simply the percent of predictions that are correct. "
   ]
  },
  {
   "cell_type": "code",
   "execution_count": 19,
   "metadata": {
    "collapsed": false
   },
   "outputs": [
    {
     "name": "stdout",
     "output_type": "stream",
     "text": [
      "The model managed to correctly predict 71.3% of the outcomes in out test data set.\n"
     ]
    }
   ],
   "source": [
    "percent_correct = rf_model.score(predictors_test, target_test) * 100\n",
    "print('The model managed to correctly predict %.1f%% of the outcomes in out test data set.' % percent_correct)"
   ]
  },
  {
   "cell_type": "markdown",
   "metadata": {},
   "source": [
    "A more insightful yet complex notion of how well our model fits the data can be found using what's known as a 'confusion matrix'. This is a tool for evaluating the effectiveness of classification models. The rows of the confusion matrix relate to the predicted outcomes and the columns are the actual outcomes. Therefore the matrix represents correct classifications, false positives (and how they are wrong (i.e. What the correct classification would have been)) and false negatives (and how they are wrong). They are known as confusion matrices because they clarify where the model is 'confusing' one category for another in prediction.\n",
    "\n",
    "A clear explanation (with pictures) is available at <a href=\"http://www.dataschool.io/simple-guide-to-confusion-matrix-terminology/\">Data School</a>.\n",
    "\n",
    "To do this analysis we need predicted values so that we can then compare them to the true values. Let's first get some predictions and then build our confusion matrix."
   ]
  },
  {
   "cell_type": "code",
   "execution_count": 22,
   "metadata": {
    "collapsed": false
   },
   "outputs": [],
   "source": [
    "predictions = rf_model.predict(predictors_test)"
   ]
  },
  {
   "cell_type": "markdown",
   "metadata": {},
   "source": [
    "Sci-Kit Learn has a confusion matrix utility we can import. Let's use that and also make a plot so that we can visualise where our model goes wrong. We'll also import `itertools` which helps with permutations and combination calculations we can use to aid our plotting."
   ]
  },
  {
   "cell_type": "code",
   "execution_count": 24,
   "metadata": {
    "collapsed": false
   },
   "outputs": [],
   "source": [
    "from sklearn.metrics import confusion_matrix as cm\n",
    "import itertools"
   ]
  },
  {
   "cell_type": "code",
   "execution_count": 26,
   "metadata": {
    "collapsed": false
   },
   "outputs": [],
   "source": [
    "confusion_matrix = cm(target_test, predictions)"
   ]
  },
  {
   "cell_type": "markdown",
   "metadata": {},
   "source": [
    "We can now write a function to make an intuitive plot of this result."
   ]
  },
  {
   "cell_type": "code",
   "execution_count": 38,
   "metadata": {
    "collapsed": true
   },
   "outputs": [],
   "source": [
    "def plot_confusion_matrix(confusion_matrix, classes, title='Confusion matrix', cmap=plt.cm.Blues):\n",
    "    # Use imshow since we are building a picture rather than a traditional chart\n",
    "    # 'nearest' interpolation is needed to get the sharp edges of the 4 cells rather than a steady gradient \n",
    "    # cmap is a color map used to fill in the chart\n",
    "    plt.imshow(confusion_matrix, interpolation='nearest', cmap=cmap)\n",
    "    plt.title(title)\n",
    "    # Add a colorbar scale\n",
    "    plt.colorbar()\n",
    "    tick_marks = np.arange(len(classes))\n",
    "    plt.xticks(tick_marks, classes)\n",
    "    plt.yticks(tick_marks, classes)\n",
    "\n",
    "    # setting a threshold beyond which white labels will be used due to the dark background\n",
    "    thresh = confusion_matrix.max() / 2.\n",
    "    # Going through each cell to add the count label\n",
    "    for i, j in itertools.product(range(confusion_matrix.shape[0]), range(confusion_matrix.shape[1])):\n",
    "        plt.text(j, i, confusion_matrix[i, j],\n",
    "                 horizontalalignment=\"center\",\n",
    "                 color=\"white\" if confusion_matrix[i, j] > thresh else \"black\")\n",
    "\n",
    "        \n",
    "    plt.tight_layout()\n",
    "    plt.ylabel('True Label')\n",
    "    plt.xlabel('Predicted Label')"
   ]
  },
  {
   "cell_type": "code",
   "execution_count": 39,
   "metadata": {
    "collapsed": false
   },
   "outputs": [
    {
     "data": {
      "image/png": "[encoded data removed]",
      "text/plain": [
       "<matplotlib.figure.Figure at 0xb5f76a0>"
      ]
     },
     "metadata": {},
     "output_type": "display_data"
    }
   ],
   "source": [
    "plot_confusion_matrix(confusion_matrix, classes=target_data.unique())"
   ]
  },
  {
   "cell_type": "markdown",
   "metadata": {},
   "source": [
    "The confusion matrix adds a bit more detail to the percentage of correct predictions calculated in earlier analysis. It tells us that the model has a bias towards predicting light-drinking status and hence may have an issue with false negatives with fewer false positives.\n",
    "\n",
    "We can go futher however, let us consider the factors the model has deemed important in prediction.\n",
    "\n",
    "**N.B.** - At the start it was mentioned that Random Forest models are considered \"black box\" models because they're hard to interpret. A model only using a single decision tree instead of an entire forest of them would allow examination so thet we may see see the exact criteria used to produce a prediction for any input. Here we get a notion but cannot trace a decision path."
   ]
  },
  {
   "cell_type": "code",
   "execution_count": 58,
   "metadata": {
    "collapsed": false
   },
   "outputs": [
    {
     "data": {
      "text/html": [
       "<div>\n",
       "<table border=\"1\" class=\"dataframe\">\n",
       "  <thead>\n",
       "    <tr style=\"text-align: right;\">\n",
       "      <th></th>\n",
       "      <th>Importance</th>\n",
       "    </tr>\n",
       "    <tr>\n",
       "      <th>Feature</th>\n",
       "      <th></th>\n",
       "    </tr>\n",
       "  </thead>\n",
       "  <tbody>\n",
       "    <tr>\n",
       "      <th>goout</th>\n",
       "      <td>0.114653</td>\n",
       "    </tr>\n",
       "    <tr>\n",
       "      <th>G3</th>\n",
       "      <td>0.088564</td>\n",
       "    </tr>\n",
       "    <tr>\n",
       "      <th>absences</th>\n",
       "      <td>0.067966</td>\n",
       "    </tr>\n",
       "    <tr>\n",
       "      <th>sex</th>\n",
       "      <td>0.059579</td>\n",
       "    </tr>\n",
       "    <tr>\n",
       "      <th>age</th>\n",
       "      <td>0.058156</td>\n",
       "    </tr>\n",
       "    <tr>\n",
       "      <th>freetime</th>\n",
       "      <td>0.052607</td>\n",
       "    </tr>\n",
       "    <tr>\n",
       "      <th>famrel</th>\n",
       "      <td>0.048636</td>\n",
       "    </tr>\n",
       "    <tr>\n",
       "      <th>health</th>\n",
       "      <td>0.048517</td>\n",
       "    </tr>\n",
       "    <tr>\n",
       "      <th>Medu</th>\n",
       "      <td>0.047237</td>\n",
       "    </tr>\n",
       "    <tr>\n",
       "      <th>reason</th>\n",
       "      <td>0.045984</td>\n",
       "    </tr>\n",
       "    <tr>\n",
       "      <th>Fedu</th>\n",
       "      <td>0.045009</td>\n",
       "    </tr>\n",
       "    <tr>\n",
       "      <th>studytime</th>\n",
       "      <td>0.038978</td>\n",
       "    </tr>\n",
       "    <tr>\n",
       "      <th>traveltime</th>\n",
       "      <td>0.029065</td>\n",
       "    </tr>\n",
       "    <tr>\n",
       "      <th>guardian</th>\n",
       "      <td>0.024982</td>\n",
       "    </tr>\n",
       "    <tr>\n",
       "      <th>romantic</th>\n",
       "      <td>0.023850</td>\n",
       "    </tr>\n",
       "    <tr>\n",
       "      <th>famsize</th>\n",
       "      <td>0.022330</td>\n",
       "    </tr>\n",
       "    <tr>\n",
       "      <th>famsup</th>\n",
       "      <td>0.021823</td>\n",
       "    </tr>\n",
       "    <tr>\n",
       "      <th>nursery</th>\n",
       "      <td>0.021530</td>\n",
       "    </tr>\n",
       "    <tr>\n",
       "      <th>activities</th>\n",
       "      <td>0.021013</td>\n",
       "    </tr>\n",
       "    <tr>\n",
       "      <th>school</th>\n",
       "      <td>0.020031</td>\n",
       "    </tr>\n",
       "    <tr>\n",
       "      <th>address</th>\n",
       "      <td>0.019369</td>\n",
       "    </tr>\n",
       "    <tr>\n",
       "      <th>internet</th>\n",
       "      <td>0.018794</td>\n",
       "    </tr>\n",
       "    <tr>\n",
       "      <th>failures</th>\n",
       "      <td>0.014918</td>\n",
       "    </tr>\n",
       "    <tr>\n",
       "      <th>schoolsup</th>\n",
       "      <td>0.013113</td>\n",
       "    </tr>\n",
       "    <tr>\n",
       "      <th>Pstatus</th>\n",
       "      <td>0.011958</td>\n",
       "    </tr>\n",
       "    <tr>\n",
       "      <th>paid</th>\n",
       "      <td>0.010876</td>\n",
       "    </tr>\n",
       "    <tr>\n",
       "      <th>higher</th>\n",
       "      <td>0.010460</td>\n",
       "    </tr>\n",
       "  </tbody>\n",
       "</table>\n",
       "</div>"
      ],
      "text/plain": [
       "            Importance\n",
       "Feature               \n",
       "goout         0.114653\n",
       "G3            0.088564\n",
       "absences      0.067966\n",
       "sex           0.059579\n",
       "age           0.058156\n",
       "freetime      0.052607\n",
       "famrel        0.048636\n",
       "health        0.048517\n",
       "Medu          0.047237\n",
       "reason        0.045984\n",
       "Fedu          0.045009\n",
       "studytime     0.038978\n",
       "traveltime    0.029065\n",
       "guardian      0.024982\n",
       "romantic      0.023850\n",
       "famsize       0.022330\n",
       "famsup        0.021823\n",
       "nursery       0.021530\n",
       "activities    0.021013\n",
       "school        0.020031\n",
       "address       0.019369\n",
       "internet      0.018794\n",
       "failures      0.014918\n",
       "schoolsup     0.013113\n",
       "Pstatus       0.011958\n",
       "paid          0.010876\n",
       "higher        0.010460"
      ]
     },
     "execution_count": 58,
     "metadata": {},
     "output_type": "execute_result"
    }
   ],
   "source": [
    "importance_vector = pd.DataFrame({'Feature': predictor_variables.columns, 'Importance': rf_model.feature_importances_})\\\n",
    "                    .sort_values(by = 'Importance', ascending = False)\n",
    "importance_vector.set_index('Feature')"
   ]
  },
  {
   "cell_type": "markdown",
   "metadata": {},
   "source": [
    "By far the most influential of the variables is the boolean flag for if they go out. Clearly this reinforces that drinking is a social activity. Futher to this age and sex are also important to our prediction. We do not have an explanation of all of the variables since the UC Irvine website seems to have removed explanations. \n",
    "\n",
    "One thing that is important to note here is that these importance values only tell us the weights that the variables play in determining an outcome they do not tell us the direction of the relationsip. For example the fact that sex has a value of 0.06 does not tell us that men drink more than women or women more than men but simply that gender is has a certain importance to determining drinking (amongst Portuguese students)."
   ]
  },
  {
   "cell_type": "markdown",
   "metadata": {},
   "source": [
    "## Extensions\n",
    "There are many ways to get to understand the model better, improve the fit and prepare to learn and explore further.\n",
    "\n",
    "Firstly one can play with the parameters of the model here, add more trees to the Random Forest, use different variables as prediction features (maybe combining and recategorising them) or use the different calibration techniques available in Sci-Kit Learn. The <a href=\"http://scikit-learn.org/stable/modules/generated/sklearn.ensemble.RandomForestClassifier.html\">Sci-Kit Learn Documentation</a> should be helpful in learning more.\n",
    "\n",
    "Alternatively a different output can be modelled such as test scores or studytime. This may lead you to the use of a Random Forest regression rather than classification, a similar yet related problem.\n",
    "\n",
    "Finally you can use different performance measurement metrics. For example Sci-Kit Learn's built-in Random Forest out-of-bag error (Part of the `RandomForestClassifier` object). Out-of-bag estimate is the error rate of the random forest model on the training data that is not included in the bootstrap sample of each tree. Oob error has been shown to be a good measure of error for random forest models. To do this when initialisng the Random Forest set `oob_score = True`.\n",
    "<hr/>"
   ]
  },
  {
   "cell_type": "markdown",
   "metadata": {},
   "source": [
    "This tutorial follows the work of Columbia Univerisity's Application Development Initative for their 2017 DevFest.\n",
    "We will continue to follow this as we move forwards. The orignal tutorial can be found <a href=\"https://devfe.st/learn/datascience/\">here</a>.\n",
    "\n",
    "Our thanks to Lucas Schuermann, Rachel Zhang, Zach Robertson, Jillian Knoll and Ashutosh Nanda.\n",
    "\n",
    "<h4>Questions? <a href=\"mailto:ian.davies@moodys.com\">Contact me by email</a></h4>"
   ]
  }
 ],
 "metadata": {
  "anaconda-cloud": {},
  "kernelspec": {
   "display_name": "Python [Root]",
   "language": "python",
   "name": "Python [Root]"
  },
  "language_info": {
   "codemirror_mode": {
    "name": "ipython",
    "version": 3
   },
   "file_extension": ".py",
   "mimetype": "text/x-python",
   "name": "python",
   "nbconvert_exporter": "python",
   "pygments_lexer": "ipython3",
   "version": "3.5.2"
  }
 },
 "nbformat": 4,
 "nbformat_minor": 2
}
