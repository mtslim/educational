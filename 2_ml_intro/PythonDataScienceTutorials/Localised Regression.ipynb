{
 "cells": [
  {
   "cell_type": "markdown",
   "metadata": {
    "slideshow": {
     "slide_type": "slide"
    }
   },
   "source": [
    "# Ensembles: Bringing It All Together\n",
    "## Localised Linear Regression\n",
    "\n",
    "Firstly, what are ensemble models? \n",
    "Ensemble models use multiple learning algorithms to aid in the accuracy of prediction. In many cases this will come in the form of combining the outputs of multiple models in some way - we have seen this previously in the tutorial on random forests which combine the predictive output of multiple decision tress (Machine Learning algorithms in and of themselves) to improve accuracy of the final output.\n",
    "\n",
    "In this tutorial we will combine simple linear regression with nearest neighours algorithms. Its a simple idea which we will illustrate in several cases. Taking a simple case first will lay the groundwork for thinking about combining models to improve predictive power.\n",
    "\n",
    "**Note:** The output of this notebook is random so re run it a few times to see different outputs. This has been done to demonstrate that the examples are not cherry picked and ultimately adding randomness and distributing enables faster testing by anyone who runs this notebook, testing on the edge à la A/B testing."
   ]
  },
  {
   "cell_type": "markdown",
   "metadata": {
    "slideshow": {
     "slide_type": "slide"
    }
   },
   "source": [
    "### Setup\n",
    "Given that we are using multiple models the imports for our program have grown. We bring in nearest neighbours, linear regression and the general data management and visualisation tools (Pandas, MatPlotLib and Seaborn - A library for smoothing the standard styles of MatPlotLib).\n",
    "Note that throughout this notebook we implicitly use NumPy as it gets imported with Pandas. We do this thorough `pd.np`."
   ]
  },
  {
   "cell_type": "code",
   "execution_count": 1,
   "metadata": {
    "slideshow": {
     "slide_type": "fragment"
    }
   },
   "outputs": [],
   "source": [
    "%matplotlib inline\n",
    "import random, seaborn; import pandas as pd\n",
    "from sklearn.linear_model import LinearRegression; from sklearn.neighbors import NearestNeighbors, RadiusNeighborsRegressor\n",
    "import matplotlib.pyplot as plt\n",
    "np = pd.np"
   ]
  },
  {
   "cell_type": "markdown",
   "metadata": {
    "slideshow": {
     "slide_type": "fragment"
    }
   },
   "source": [
    "A final bit of set up. We apply the Seaborn styling and change the size of the matplotlib plots to be larger 6 x 9 (_h_ x _w_). This is a useful trick for making charts presentable without having to stretch the output bitmaps and manage images on a chart by chart basis."
   ]
  },
  {
   "cell_type": "code",
   "execution_count": 2,
   "metadata": {
    "slideshow": {
     "slide_type": "fragment"
    }
   },
   "outputs": [],
   "source": [
    "seaborn.set()\n",
    "fig_size = plt.rcParams[\"figure.figsize\"]\n",
    "fig_size[0] = 9; fig_size[1] = 6"
   ]
  },
  {
   "cell_type": "markdown",
   "metadata": {
    "slideshow": {
     "slide_type": "slide"
    }
   },
   "source": [
    "### Ordinary Least Squares (OLS)\n",
    "The statistitian's standard tool of linear least squares regression provides a lot of power, closed form solutions for parameters and with a few simple modifications it can handle heteroskedastic distributions. However, it is not a tool for all problems as one may expect given the name, it is only really suited to linear combinations of (transformations of) the observable variables.\n",
    "\n",
    "Being simple, fast and easy to interpret OLS is often a good place to start to get an idea of one's data and any possible trends. We have already covered the implementation of OLS in python so let's set up a problem and see how far it gets us.\n",
    "\n",
    "Let's pick a relatively simple yet nonlinear mathematical function and see how OLS copes. In this case we consider the Sine curve (stretched a little to aid our presentation).\n",
    "\n",
    "$$y=\\sin\\left(\\frac{x}{4}\\right)$$\n",
    "\n",
    "We then pick a series of 880 points as our 'sample' and will try to learn what the underlying function mapping $x$ to $y$ is."
   ]
  },
  {
   "cell_type": "code",
   "execution_count": 3,
   "metadata": {
    "slideshow": {
     "slide_type": "slide"
    }
   },
   "outputs": [],
   "source": [
    "domain = np.arange(0,88,0.1)\n",
    "sin_curve = np.sin(0.25 * domain)"
   ]
  },
  {
   "cell_type": "markdown",
   "metadata": {
    "slideshow": {
     "slide_type": "slide"
    }
   },
   "source": [
    "Anyone working with data will tell you that a picture is worth a thousand words so lets just plot our data and see what we're working with."
   ]
  },
  {
   "cell_type": "code",
   "execution_count": 4,
   "metadata": {
    "scrolled": false,
    "slideshow": {
     "slide_type": "fragment"
    }
   },
   "outputs": [
    {
     "data": {
      "text/plain": [
       "Text(0.5,1,'The Sine Curve')"
      ]
     },
     "execution_count": 4,
     "metadata": {},
     "output_type": "execute_result"
    },
    {
     "data": {
      "image/png": "[encoded data removed]",
      "text/plain": [
       "<Figure size 648x432 with 1 Axes>"
      ]
     },
     "metadata": {},
     "output_type": "display_data"
    }
   ],
   "source": [
    "plt.scatter(domain, sin_curve)\n",
    "plt.title('The Sine Curve', fontsize=20)"
   ]
  },
  {
   "cell_type": "markdown",
   "metadata": {
    "slideshow": {
     "slide_type": "slide"
    }
   },
   "source": [
    "### Applying the model\n",
    "Time to naively build a model and hope for the best. \n",
    "\n",
    "Let's apply OLS to the sine curve and see where it gets us..."
   ]
  },
  {
   "cell_type": "code",
   "execution_count": 5,
   "metadata": {
    "slideshow": {
     "slide_type": "fragment"
    }
   },
   "outputs": [
    {
     "data": {
      "text/plain": [
       "LinearRegression(copy_X=True, fit_intercept=True, n_jobs=1, normalize=False)"
      ]
     },
     "execution_count": 5,
     "metadata": {},
     "output_type": "execute_result"
    }
   ],
   "source": [
    "simple_linear_regression = LinearRegression()\n",
    "simple_linear_regression.fit(domain.reshape(-1,1), sin_curve.reshape(-1,1))"
   ]
  },
  {
   "cell_type": "markdown",
   "metadata": {
    "slideshow": {
     "slide_type": "slide"
    }
   },
   "source": [
    "As a basic understanding of linear regression will tell us, trying to fit a stright line to this data will not tell us very much. In fact it will probably just return the sample mean as a best estimate as the nonlinear process is too complex for linear regression to handle.\n",
    "\n",
    "We can see that this is what has been done by considering the mean and the slope of the fit to the data."
   ]
  },
  {
   "cell_type": "code",
   "execution_count": 6,
   "metadata": {
    "slideshow": {
     "slide_type": "fragment"
    }
   },
   "outputs": [
    {
     "name": "stdout",
     "output_type": "stream",
     "text": [
      "Intercept:\t 0.0906979174388081\n",
      "Slope:\t\t 4.771039813372856e-06\n",
      "Sample Average:\t 0.09090760463860584\n"
     ]
    }
   ],
   "source": [
    "predictions = simple_linear_regression.intercept_ + simple_linear_regression.coef_[0] * domain\n",
    "print('Intercept:\\t', simple_linear_regression.intercept_[0])\n",
    "print('Slope:\\t\\t', simple_linear_regression.coef_[0][0])\n",
    "print('Sample Average:\\t', sin_curve.mean())"
   ]
  },
  {
   "cell_type": "markdown",
   "metadata": {
    "slideshow": {
     "slide_type": "fragment"
    }
   },
   "source": [
    "The sample average and the intercept are almost the same and the slope of the presumed relationship is more or less zero. Clearly we are doing little better than simply taking an average and using this for all points. More on this later.\n",
    "\n",
    "First, let's plot the outcomes of this initial analysis."
   ]
  },
  {
   "cell_type": "code",
   "execution_count": 7,
   "metadata": {
    "slideshow": {
     "slide_type": "slide"
    }
   },
   "outputs": [
    {
     "data": {
      "text/plain": [
       "Text(0.5,1,'A Global Regression Fit')"
      ]
     },
     "execution_count": 7,
     "metadata": {},
     "output_type": "execute_result"
    },
    {
     "data": {
      "image/png": "[encoded data removed]",
      "text/plain": [
       "<Figure size 648x432 with 1 Axes>"
      ]
     },
     "metadata": {},
     "output_type": "display_data"
    }
   ],
   "source": [
    "plt.scatter(domain, sin_curve, c='r', edgecolors='r')\n",
    "plt.plot(domain, predictions, 'k-', lw=3)\n",
    "plt.title('A Global Regression Fit', fontsize=20)"
   ]
  },
  {
   "cell_type": "markdown",
   "metadata": {
    "slideshow": {
     "slide_type": "fragment"
    }
   },
   "source": [
    "As the plot shows we have really learnt nothing of the Sine curve's shape. A poor show for a standard tool of statistics (improperly applied of course)."
   ]
  },
  {
   "cell_type": "markdown",
   "metadata": {
    "slideshow": {
     "slide_type": "slide"
    }
   },
   "source": [
    "To see how much of the variance in the data we are actually explaining let's calcuate the $R^2$ for our model."
   ]
  },
  {
   "cell_type": "code",
   "execution_count": 8,
   "metadata": {
    "slideshow": {
     "slide_type": "fragment"
    }
   },
   "outputs": [
    {
     "data": {
      "text/plain": [
       "2.9885152907915824e-08"
      ]
     },
     "execution_count": 8,
     "metadata": {},
     "output_type": "execute_result"
    }
   ],
   "source": [
    "simple_linear_regression.score(domain.reshape(-1,1), sin_curve.reshape(-1,1))"
   ]
  },
  {
   "cell_type": "markdown",
   "metadata": {
    "slideshow": {
     "slide_type": "fragment"
    }
   },
   "source": [
    "Seems we're explaining basically none of the variance in our data.\n",
    "\n",
    "Do we need to start again or can we reapply linear regression in a different way to improve our results?\n",
    "\n",
    "Forwards ever, backwards never. Let's press on."
   ]
  },
  {
   "cell_type": "markdown",
   "metadata": {
    "slideshow": {
     "slide_type": "slide"
    }
   },
   "source": [
    "## Updating Least Squares\n",
    "### Using Big Data to 'Zoom In'\n",
    "In this case we have 880 examples, not exactly big data per se but enough data to try to 'zoom in'. This is the concept that it may be better to use a subset of data for each prediction. Since using the entire data set didn't get us very far maybe less is more. What if we chose to take only those points most similar (read closest) to the one for which we aim to predict a value? This makes intuitive sense because in this case we are using linear regression to approximate the function in our area of interest. As long as we do not extrapolate too far this could work.\n",
    "\n",
    "First of all we need to find the 'most similar' points that we will use for each regression problem. This is a problem of nearest neighbours."
   ]
  },
  {
   "cell_type": "markdown",
   "metadata": {
    "slideshow": {
     "slide_type": "slide"
    }
   },
   "source": [
    "Let's begin this new approach by setting up a nearest neighbours model. We'll take the 40 nearest points and use them to build a regression each time. The optimal number of points to fit to may vary at different points in the data set and is itself a parameter for optimisation. In this case 40 proves our point. \n",
    "\n",
    "We conduct a brute force search on each query. This means that the (Euclidean) distance to every other point in the data set is calculated and then the closest 40 points are returned. Clearly this may be very slow in a larger dataset but given we have fewer than 1,000 examples this shouldn't be too taxing."
   ]
  },
  {
   "cell_type": "code",
   "execution_count": 9,
   "metadata": {
    "slideshow": {
     "slide_type": "fragment"
    }
   },
   "outputs": [],
   "source": [
    "neighbours = NearestNeighbors(n_neighbors = 40, algorithm='brute')"
   ]
  },
  {
   "cell_type": "markdown",
   "metadata": {
    "slideshow": {
     "slide_type": "slide"
    }
   },
   "source": [
    "Having set up the neighbours model we need to give it some data to which to fit. Since we must look for close neighbours over some (series of) dimension(s) we give the model the $x$ data for the model. We cannot also compare on the $y$-coordinate since we will be querying the model with an $x$ value for which we aim to preidct the $y$ and hence we may not compare in the $y$ dimension."
   ]
  },
  {
   "cell_type": "code",
   "execution_count": 10,
   "metadata": {
    "slideshow": {
     "slide_type": "fragment"
    }
   },
   "outputs": [
    {
     "data": {
      "text/plain": [
       "NearestNeighbors(algorithm='brute', leaf_size=30, metric='minkowski',\n",
       "         metric_params=None, n_jobs=1, n_neighbors=40, p=2, radius=1.0)"
      ]
     },
     "execution_count": 10,
     "metadata": {},
     "output_type": "execute_result"
    }
   ],
   "source": [
    "neighbours.fit(domain.reshape(-1,1))"
   ]
  },
  {
   "cell_type": "markdown",
   "metadata": {
    "slideshow": {
     "slide_type": "fragment"
    }
   },
   "source": [
    "The return value from this cell tells us that we are using a brute force search `algorithm='brute'` and that we are using the Euclidean distance measure. This is inferred by use of the Minkowski distance with a $p$ parameter of 2 (`metric='minkowski`, `p=2`). This follows from the definition of the Minkowski metric as below:\n",
    "$$D(x, y)=\\left(\\sum_{i=1}^n{\\lvert x_i - y_i\\rvert}^p\\right)^{\\frac{1}{p}}$$\n",
    "\n",
    "Clearly in the case of $p=2$ this is the square root of the sum of squared differences i.e. the Euclidian distance between $x$ and $y$. We are applying this in one dimension so the absolute difference in value would suffice."
   ]
  },
  {
   "cell_type": "markdown",
   "metadata": {
    "slideshow": {
     "slide_type": "slide"
    }
   },
   "source": [
    "Now we can test out the new idea of localised regression. Let us pick a point at random (within our range) and try to fit to it.\n",
    "\n",
    "First we pick the point and then we get its neighbours (note that the SciKit Learn package's nearest neighbour object returns the indices of the nearest neighboutrs within the data given to the model, hence the original training data must be retained in order to retrieve the values of the neighbouring points)."
   ]
  },
  {
   "cell_type": "code",
   "execution_count": 11,
   "metadata": {
    "slideshow": {
     "slide_type": "fragment"
    }
   },
   "outputs": [],
   "source": [
    "point = random.random() * 88 \n",
    "indices = neighbours.kneighbors(point, return_distance=False)"
   ]
  },
  {
   "cell_type": "markdown",
   "metadata": {
    "slideshow": {
     "slide_type": "slide"
    }
   },
   "source": [
    "Now that we have the values in the neighbourhood of our point of interest let's fit a linear regression using just these points and see how well it does by considering the coefficient of determination."
   ]
  },
  {
   "cell_type": "code",
   "execution_count": 12,
   "metadata": {
    "slideshow": {
     "slide_type": "fragment"
    }
   },
   "outputs": [
    {
     "data": {
      "text/plain": [
       "0.9625637474019705"
      ]
     },
     "execution_count": 12,
     "metadata": {},
     "output_type": "execute_result"
    }
   ],
   "source": [
    "local_regression = LinearRegression()\n",
    "local_regression.fit(domain[indices].reshape(-1,1), sin_curve[indices].reshape(-1,1))\n",
    "local_regression.score(domain[indices].reshape(-1,1), sin_curve[indices].reshape(-1,1))"
   ]
  },
  {
   "cell_type": "markdown",
   "metadata": {
    "slideshow": {
     "slide_type": "slide"
    }
   },
   "source": [
    "Now that we have our model let's visualise what we have done by plotting the straight line we have estimated and expanding it out beyond the neighbourhood of data we used to make the line more noticeable."
   ]
  },
  {
   "cell_type": "code",
   "execution_count": 13,
   "metadata": {
    "slideshow": {
     "slide_type": "fragment"
    }
   },
   "outputs": [],
   "source": [
    "minimum = domain[indices].min(); maximum = domain[indices].max()\n",
    "extended_range = 1.5 * (maximum - minimum)\n",
    "start = (maximum + minimum)/2 - extended_range/2\n",
    "local_domain = np.arange(start, start+extended_range, extended_range/10).reshape(-1,1)\n",
    "local_predictions = local_regression.predict(local_domain)"
   ]
  },
  {
   "cell_type": "code",
   "execution_count": 14,
   "metadata": {
    "slideshow": {
     "slide_type": "slide"
    }
   },
   "outputs": [
    {
     "data": {
      "text/plain": [
       "Text(0.5,1,'Local Regression Fit')"
      ]
     },
     "execution_count": 14,
     "metadata": {},
     "output_type": "execute_result"
    },
    {
     "data": {
      "image/png": "[encoded data removed]",
      "text/plain": [
       "<Figure size 648x432 with 1 Axes>"
      ]
     },
     "metadata": {},
     "output_type": "display_data"
    }
   ],
   "source": [
    "plt.scatter(domain, sin_curve, s=10, c='r', edgecolors='r')\n",
    "plt.scatter(domain[indices], np.sin(domain[indices]/4), c='g', alpha=0.3, edgecolors='b')\n",
    "plt.plot(local_domain, local_predictions, 'k-', lw=2)\n",
    "plt.axvline(x=point, c='k', linestyle='--')\n",
    "plt.axhline(y=np.sin(0.25 * point), c='k', linestyle='--')\n",
    "plt.title('Local Regression Fit', fontsize=20)"
   ]
  },
  {
   "cell_type": "markdown",
   "metadata": {
    "slideshow": {
     "slide_type": "slide"
    }
   },
   "source": [
    "The previous plot shows that our localised regression has successfully approximated the Sine curve in the neighbourgood of our point. The further the extrapolation the greater the error. In fact the plot showed that it may be better to fit to a smaller neighbourhood so that the approximation is even more localised and hopwfully more accurate. This demonstrates the trade off between the neighbourhood size and therefore the ability to avoid fitting to noise (of which there is none in this case) and the abstraction from global patterns which may be misleading.\n",
    "#### To Sum Up\n",
    "Let's consider how much 'zooming in' improved the predictive power of our model. \n",
    "\n",
    "While the output will be random given the setup of this notebook the localised regression should be a much better model. This shows the power of localised trends over a global trend in some cases. Something to look out for in future analysis if the global models aren't working too well."
   ]
  },
  {
   "cell_type": "code",
   "execution_count": 15,
   "metadata": {
    "slideshow": {
     "slide_type": "fragment"
    }
   },
   "outputs": [
    {
     "name": "stdout",
     "output_type": "stream",
     "text": [
      "Point:  41.698128200441516\n",
      "Global Regression Prediction:  0.09089686086859554\n",
      "Local Regression Prediction:  -0.8069055638250218\n",
      "True Value:  -0.8413380932704015\n"
     ]
    }
   ],
   "source": [
    "print('Point: ', point)\n",
    "print('Global Regression Prediction: ', simple_linear_regression.predict(point)[0][0])\n",
    "print('Local Regression Prediction: ', local_regression.predict(point)[0][0])\n",
    "print('True Value: ', np.sin(0.25 * point))"
   ]
  },
  {
   "cell_type": "markdown",
   "metadata": {
    "slideshow": {
     "slide_type": "slide"
    }
   },
   "source": [
    "### Use Cases\n",
    "This ability to abstract from having to generalise globally can clearly be useful in many cases. For example there may be structural breaks in the data or indeed too complex a relationship to fit with limited models.\n",
    "\n",
    "In this section we consider the case of a kinked relationship where the interaction of $x$ and $y$ is not consistent over the domain of interest and as such localisation can enable a better fit by fitting to the relationship either side of the kink with the greatest issue at the point of discontinuity. However even at this point if the neighbourhood considered is small enough the error (compared to fitting a global regression model) should be reduced by localisation. \n",
    "\n",
    "Clearly if the location of the point of discontinuity can be determined then we can do much better by accounting for it explicitly however this may not always be possible. When working in many dimensions the features may interact in complex ways, too complex to account for in preprocessing and hence a model robust to such problems is great. Our model of localised regression can be good for such cases."
   ]
  },
  {
   "cell_type": "markdown",
   "metadata": {
    "slideshow": {
     "slide_type": "slide"
    }
   },
   "source": [
    "Let us generate this case by setting a random point of discontunity (a kink) and having a different (noisy) relationship either side of the randomly chosen point."
   ]
  },
  {
   "cell_type": "code",
   "execution_count": 16,
   "metadata": {
    "slideshow": {
     "slide_type": "fragment"
    }
   },
   "outputs": [],
   "source": [
    "x = np.arange(0,100,0.25)\n",
    "y = 7 + 0.1 * np.arange(0,100,0.25)\n",
    "k = random.randint(10,90)\n",
    "y += np.append(np.zeros(4 * k), 2 * np.arange(0, 100-k, 0.25))\n",
    "y += np.random.normal(0, 3, 400)"
   ]
  },
  {
   "cell_type": "markdown",
   "metadata": {
    "slideshow": {
     "slide_type": "slide"
    }
   },
   "source": [
    "We may now visualise the problem we have to deal with."
   ]
  },
  {
   "cell_type": "code",
   "execution_count": 17,
   "metadata": {
    "slideshow": {
     "slide_type": "fragment"
    }
   },
   "outputs": [
    {
     "data": {
      "text/plain": [
       "Text(0.5,1,'Discontinuous Relationships')"
      ]
     },
     "execution_count": 17,
     "metadata": {},
     "output_type": "execute_result"
    },
    {
     "data": {
      "image/png": "[encoded data removed]",
      "text/plain": [
       "<Figure size 648x432 with 1 Axes>"
      ]
     },
     "metadata": {},
     "output_type": "display_data"
    }
   ],
   "source": [
    "plt.scatter(x, y)\n",
    "plt.title('Discontinuous Relationships', fontsize=20)"
   ]
  },
  {
   "cell_type": "markdown",
   "metadata": {
    "slideshow": {
     "slide_type": "slide"
    }
   },
   "source": [
    "As a baseline point of comparison let us fit a global regression and use it to predict outcomes. We will plot this estimated relationship later."
   ]
  },
  {
   "cell_type": "code",
   "execution_count": 18,
   "metadata": {
    "slideshow": {
     "slide_type": "fragment"
    }
   },
   "outputs": [],
   "source": [
    "global_regression = LinearRegression()\n",
    "global_regression.fit(x.reshape(-1,1), y.reshape(-1,1))\n",
    "y_pred = global_regression.predict(x.reshape(-1,1))"
   ]
  },
  {
   "cell_type": "markdown",
   "metadata": {
    "slideshow": {
     "slide_type": "slide"
    }
   },
   "source": [
    "Now to test the efficacy of our modelling we pick a point to the left of the kink (a) and a point to the right (b). The two points will therefore test the model under the two different regimes of the relationship between $x$ and $y$. The model will also be tested at the point of discontinuity (k).\n",
    "\n",
    "Note that random.random() yields a value on the unit interval and hence $ a \\lt k \\lt b $."
   ]
  },
  {
   "cell_type": "code",
   "execution_count": 19,
   "metadata": {
    "slideshow": {
     "slide_type": "fragment"
    }
   },
   "outputs": [],
   "source": [
    "a = k * random.random()\n",
    "b = k + (100 - k) * random.random()"
   ]
  },
  {
   "cell_type": "markdown",
   "metadata": {
    "slideshow": {
     "slide_type": "fragment"
    }
   },
   "source": [
    "From this point we may then set up our nearest neighbours model and give it the $x$ data to work with. "
   ]
  },
  {
   "cell_type": "code",
   "execution_count": 20,
   "metadata": {
    "slideshow": {
     "slide_type": "fragment"
    }
   },
   "outputs": [
    {
     "data": {
      "text/plain": [
       "NearestNeighbors(algorithm='auto', leaf_size=30, metric='minkowski',\n",
       "         metric_params=None, n_jobs=1, n_neighbors=50, p=2, radius=1.0)"
      ]
     },
     "execution_count": 20,
     "metadata": {},
     "output_type": "execute_result"
    }
   ],
   "source": [
    "kink_neighbours = NearestNeighbors(n_neighbors=50)\n",
    "kink_neighbours.fit(x.reshape(-1,1))"
   ]
  },
  {
   "cell_type": "markdown",
   "metadata": {
    "slideshow": {
     "slide_type": "fragment"
    }
   },
   "source": [
    "Now we have all we need to test out our model."
   ]
  },
  {
   "cell_type": "markdown",
   "metadata": {
    "slideshow": {
     "slide_type": "slide"
    }
   },
   "source": [
    "First we gather the neighbours of each point and place them into a pandas dataframe so we may manipulate and access them easily."
   ]
  },
  {
   "cell_type": "code",
   "execution_count": 21,
   "metadata": {
    "slideshow": {
     "slide_type": "fragment"
    }
   },
   "outputs": [],
   "source": [
    "local_plots = pd.DataFrame(index=range(50), columns=['a_indices', 'a_domain', 'a_values', 'k_indices', 'k_domain', 'k_values', 'b_indices' 'b_domain', 'b_values'])\n",
    "local_plots['a_indices'] = kink_neighbours.kneighbors(a, return_distance=False)[0]\n",
    "local_plots['k_indices'] = kink_neighbours.kneighbors(k, return_distance=False)[0]\n",
    "local_plots['b_indices'] = kink_neighbours.kneighbors(b, return_distance=False)[0]"
   ]
  },
  {
   "cell_type": "markdown",
   "metadata": {
    "slideshow": {
     "slide_type": "slide"
    }
   },
   "source": [
    "We may now fit a linear regression to each of these points of neigbourhoods in turn."
   ]
  },
  {
   "cell_type": "code",
   "execution_count": 22,
   "metadata": {
    "slideshow": {
     "slide_type": "fragment"
    }
   },
   "outputs": [],
   "source": [
    "local_regression = LinearRegression()\n",
    "local_regression.fit(x[local_plots.a_indices].reshape(-1,1), y[local_plots.a_indices].reshape(-1,1))\n",
    "local_plots.a_domain = x[local_plots.a_indices]\n",
    "local_plots.a_values = local_regression.predict(local_plots.a_domain.values.reshape(-1,1))\n",
    "del local_regression"
   ]
  },
  {
   "cell_type": "code",
   "execution_count": 23,
   "metadata": {
    "slideshow": {
     "slide_type": "fragment"
    }
   },
   "outputs": [],
   "source": [
    "local_regression = LinearRegression()\n",
    "local_regression.fit(x[local_plots.k_indices].reshape(-1,1), y[local_plots.k_indices].reshape(-1,1))\n",
    "local_plots.k_domain = x[local_plots.k_indices]\n",
    "local_plots.k_values = local_regression.predict(local_plots.k_domain.values.reshape(-1,1))\n",
    "del local_regression"
   ]
  },
  {
   "cell_type": "code",
   "execution_count": 24,
   "metadata": {
    "slideshow": {
     "slide_type": "fragment"
    }
   },
   "outputs": [],
   "source": [
    "local_regression = LinearRegression()\n",
    "local_regression.fit(x[local_plots['b_indices']].reshape(-1,1), y[local_plots.b_indices].reshape(-1,1))\n",
    "local_plots['b_domain'] = x[local_plots.b_indices]\n",
    "local_plots['b_values'] = local_regression.predict(local_plots.b_domain.values.reshape(-1,1))\n",
    "del local_regression"
   ]
  },
  {
   "cell_type": "markdown",
   "metadata": {
    "slideshow": {
     "slide_type": "slide"
    }
   },
   "source": [
    "### Plotting Our Success\n",
    "The the following plot shows how well we have managed to fit either side of the discontinutity. What's more the fit at the kink isn't bad either.\n",
    "\n",
    "The plot highlights how inflexible OLS is when bluntly applied but how a simple and intuitive trick can make this stock model far more flexible."
   ]
  },
  {
   "cell_type": "code",
   "execution_count": 25,
   "metadata": {
    "slideshow": {
     "slide_type": "slide"
    }
   },
   "outputs": [
    {
     "data": {
      "image/png": "[encoded data removed]",
      "text/plain": [
       "<Figure size 648x432 with 1 Axes>"
      ]
     },
     "metadata": {},
     "output_type": "display_data"
    }
   ],
   "source": [
    "plt.scatter(x, y)\n",
    "plt.plot(x, y_pred, 'k--', lw=3)\n",
    "plt.plot(local_plots.a_domain, local_plots.a_values, 'r-', lw=3)\n",
    "plt.plot(local_plots.k_domain, local_plots.k_values, 'r-', lw=3)\n",
    "plt.plot(local_plots.b_domain, local_plots.b_values, 'r-', lw=3)\n",
    "plt.xlabel('$x$', fontsize=14)\n",
    "plt.ylabel('$y$', fontsize=14, labelpad=15).set_rotation(0)"
   ]
  },
  {
   "cell_type": "markdown",
   "metadata": {
    "slideshow": {
     "slide_type": "slide"
    }
   },
   "source": [
    "### Another Way?\n",
    "Sci-Kit Learn has its own tool to do this (`RadiusNeighborsRegressor`). It performs the same job but looks for points within a fixed radius within which to interpolate rather than for a fixed number of neighbours. This aids in reducing the possibility of looking too far afield where the data is spread out. "
   ]
  },
  {
   "cell_type": "code",
   "execution_count": 26,
   "metadata": {
    "slideshow": {
     "slide_type": "fragment"
    }
   },
   "outputs": [
    {
     "data": {
      "text/plain": [
       "RadiusNeighborsRegressor(algorithm='brute', leaf_size=30, metric='minkowski',\n",
       "             metric_params=None, p=2, radius=1, weights='uniform')"
      ]
     },
     "execution_count": 26,
     "metadata": {},
     "output_type": "execute_result"
    }
   ],
   "source": [
    "radius_regressor = RadiusNeighborsRegressor(radius=1, algorithm='brute')\n",
    "radius_regressor.fit(domain.reshape(-1,1), np.sin(domain).reshape(-1,1))"
   ]
  },
  {
   "cell_type": "markdown",
   "metadata": {
    "slideshow": {
     "slide_type": "slide"
    }
   },
   "source": [
    "Let's see how this performs vs vanilla OLS by returning to the Sine curve. We trained it on the same domain above.\n",
    "\n",
    "Remember that our previous investigation saw very poor performance for OLS when fitting the Sine curve ($R^2_{OLS}\\approx3\\times10^{-8}$)."
   ]
  },
  {
   "cell_type": "code",
   "execution_count": 27,
   "metadata": {
    "slideshow": {
     "slide_type": "fragment"
    }
   },
   "outputs": [
    {
     "data": {
      "text/plain": [
       "0.9695075273235192"
      ]
     },
     "execution_count": 27,
     "metadata": {},
     "output_type": "execute_result"
    }
   ],
   "source": [
    "radius_regressor.score(domain.reshape(-1,1), np.sin(domain).reshape(-1,1))"
   ]
  },
  {
   "cell_type": "markdown",
   "metadata": {
    "slideshow": {
     "slide_type": "fragment"
    }
   },
   "source": [
    "This does indeed perform much better and on a par with our (semi-) manually built ensemble. A little more fine tuning of the hyperparameters and there should be little difference between the radius regression and the handmade nearest neighbours regression ensemble.\n",
    "\n",
    "**Note:** The comparison of the $R^2$ for our handmade ensemble is somewhat unfair since we only consider the fit to and around one point.\n",
    "\n",
    "$$R^2_{OLS}\\approx3\\times10^{-8}\\ \\ \\ \\ R^2_{radius}\\approx0.97\\ \\ \\ \\ R^2_{neighbours}\\approx0.96$$\n",
    "\n",
    "We may see that many good ideas have been built into common packages already. You can learn a lot from the documentation and playing with the models with a friendly syntax. Its a highly recommended learning tool before you branch off on your own.\n",
    "\n",
    "Think creatively and you can get far more mileage out of the models you know before stepping into the unknown."
   ]
  }
 ],
 "metadata": {
  "anaconda-cloud": {},
  "celltoolbar": "Slideshow",
  "kernelspec": {
   "display_name": "Python 3",
   "language": "python",
   "name": "python3"
  },
  "language_info": {
   "codemirror_mode": {
    "name": "ipython",
    "version": 3
   },
   "file_extension": ".py",
   "mimetype": "text/x-python",
   "name": "python",
   "nbconvert_exporter": "python",
   "pygments_lexer": "ipython3",
   "version": "3.6.4"
  }
 },
 "nbformat": 4,
 "nbformat_minor": 2
}
