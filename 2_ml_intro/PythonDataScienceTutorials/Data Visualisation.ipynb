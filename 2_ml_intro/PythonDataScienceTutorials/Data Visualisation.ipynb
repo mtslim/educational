{
 "cells": [
  {
   "cell_type": "markdown",
   "metadata": {},
   "source": [
    "# Data Visualisation"
   ]
  },
  {
   "cell_type": "markdown",
   "metadata": {},
   "source": [
    "This is a brief file demonstrating how to create various figues using Pandas and matplotlib.\n",
    "This builds on the basic introduction and will be a general place for reference to visualisation methods and as such will be updated as we learn new/better approaches and resolve problems."
   ]
  },
  {
   "cell_type": "markdown",
   "metadata": {},
   "source": [
    "### Importing Data Modules \n",
    "As ever we begin by importing data modules so that we have all the tools we need.\n",
    "\n",
    "We also set Jupyter to place our figues as inline images."
   ]
  },
  {
   "cell_type": "code",
   "execution_count": 1,
   "metadata": {},
   "outputs": [],
   "source": [
    "import numpy as np\n",
    "import pandas as pd\n",
    "import matplotlib.pyplot as plt\n",
    "%matplotlib inline"
   ]
  },
  {
   "cell_type": "markdown",
   "metadata": {},
   "source": [
    "### Time to Get Some Data\n",
    "This data comes from an excel file and contains food prices for Christmas foods.\n",
    "\n",
    "Data is hosted in the microsoft cloud <a href=\"https://onedrive.live.com/view.aspx?resid=43EBDBC5D5265516!10892&ithint=file%2cxlsx&app=Excel&authkey=!AMjmJ1zXKzkIbKg\">here</a>.\n",
    "\n",
    "We let pandas do the hard work of reading data from excel to save us having to convert to a csv or some such. We also set the index to be the product family column rather than relying on a default 0 based numerical index."
   ]
  },
  {
   "cell_type": "code",
   "execution_count": 2,
   "metadata": {},
   "outputs": [],
   "source": [
    "food_data = pd.read_excel('./Data/Xmas Food Prices.xlsx', index_col = 'Product Family')"
   ]
  },
  {
   "cell_type": "markdown",
   "metadata": {},
   "source": [
    "### Initial Plots\n",
    "\n",
    "#### Scatter Plots\n",
    "Let's start by considering some simple relationships in the data using scatter plots. \n",
    "First something that should have a simple answer - how does the price of frozen turkey vary with the price of fresh turkey?\n",
    "\n",
    "We use the .ix index method on Pandas dataframes in order to strip out the rows desired for plotting."
   ]
  },
  {
   "cell_type": "code",
   "execution_count": 3,
   "metadata": {},
   "outputs": [
    {
     "data": {
      "text/plain": [
       "<matplotlib.text.Text at 0x92ecd68>"
      ]
     },
     "execution_count": 3,
     "metadata": {},
     "output_type": "execute_result"
    },
    {
     "data": {
      "image/png": "[encoded data removed]",
      "text/plain": [
       "<matplotlib.figure.Figure at 0x928dbe0>"
      ]
     },
     "metadata": {},
     "output_type": "display_data"
    }
   ],
   "source": [
    "fresh_turkey_prices = food_data.ix['Fresh Turkey']\n",
    "frozen_turkey_prices = food_data.ix['Frozen Turkey']\n",
    "plt.scatter(fresh_turkey_prices, frozen_turkey_prices, color='blue')\n",
    "plt.xlabel('Fresh Turkey Price')\n",
    "plt.ylabel('Frozen Turkey Price')"
   ]
  },
  {
   "cell_type": "markdown",
   "metadata": {},
   "source": [
    "Seems there isn't much of a relationship at all.\n",
    "\n",
    "This data is taken from a tutorial on plotting so we should question its validity as a dataset. Still, we now know how to do simple scatter plots.\n",
    "\n",
    "Let's now find refuge in alcohol and plot multiple data series on one chart. For this to occur they must have the same x variable so let's look at prices over time.\n",
    "\n",
    "To get the set of years we can use the fact that casting a pandas dataframe to a list returns the column headers as a list.\n",
    "\n",
    "Since we now have two data series we should add a legend, there's data in the upper right corder so let's put it out of the way in the upper left corner."
   ]
  },
  {
   "cell_type": "code",
   "execution_count": 4,
   "metadata": {},
   "outputs": [
    {
     "data": {
      "text/plain": [
       "<matplotlib.legend.Legend at 0x970f8d0>"
      ]
     },
     "execution_count": 4,
     "metadata": {},
     "output_type": "execute_result"
    },
    {
     "data": {
      "image/png": "[encoded data removed]",
      "text/plain": [
       "<matplotlib.figure.Figure at 0x928d908>"
      ]
     },
     "metadata": {},
     "output_type": "display_data"
    }
   ],
   "source": [
    "time = list(food_data)\n",
    "whisky = food_data.ix['Blended Whisky']\n",
    "beer = food_data.ix['Beers & Lagers']\n",
    "plt.scatter(time, whisky, color='blue')\n",
    "plt.scatter(time, beer, color='red')\n",
    "plt.ylabel('Price (£)')\n",
    "plt.legend(loc='upper left')"
   ]
  },
  {
   "cell_type": "markdown",
   "metadata": {},
   "source": [
    "#### Bar Charts\n",
    "\n",
    "A different type of chart. Let's start by looking at our data to make sure its suitable for a bar chart."
   ]
  },
  {
   "cell_type": "code",
   "execution_count": 5,
   "metadata": {},
   "outputs": [
    {
     "data": {
      "text/html": [
       "<div>\n",
       "<table border=\"1\" class=\"dataframe\">\n",
       "  <thead>\n",
       "    <tr style=\"text-align: right;\">\n",
       "      <th></th>\n",
       "      <th>2006</th>\n",
       "      <th>2007</th>\n",
       "      <th>2008</th>\n",
       "      <th>2009</th>\n",
       "      <th>2010</th>\n",
       "      <th>2011</th>\n",
       "      <th>2012</th>\n",
       "      <th>2013</th>\n",
       "      <th>2014</th>\n",
       "      <th>2015</th>\n",
       "      <th>2016</th>\n",
       "    </tr>\n",
       "    <tr>\n",
       "      <th>Product Family</th>\n",
       "      <th></th>\n",
       "      <th></th>\n",
       "      <th></th>\n",
       "      <th></th>\n",
       "      <th></th>\n",
       "      <th></th>\n",
       "      <th></th>\n",
       "      <th></th>\n",
       "      <th></th>\n",
       "      <th></th>\n",
       "      <th></th>\n",
       "    </tr>\n",
       "  </thead>\n",
       "  <tbody>\n",
       "    <tr>\n",
       "      <th>Beers &amp; Lagers</th>\n",
       "      <td>6.73</td>\n",
       "      <td>6.28</td>\n",
       "      <td>5.82</td>\n",
       "      <td>6.07</td>\n",
       "      <td>5.71</td>\n",
       "      <td>5.38</td>\n",
       "      <td>4.99</td>\n",
       "      <td>4.46</td>\n",
       "      <td>4.49</td>\n",
       "      <td>6.36</td>\n",
       "      <td>5.26</td>\n",
       "    </tr>\n",
       "    <tr>\n",
       "      <th>Blended Whisky</th>\n",
       "      <td>18.26</td>\n",
       "      <td>18.42</td>\n",
       "      <td>18.90</td>\n",
       "      <td>18.68</td>\n",
       "      <td>19.54</td>\n",
       "      <td>20.16</td>\n",
       "      <td>20.09</td>\n",
       "      <td>20.18</td>\n",
       "      <td>21.83</td>\n",
       "      <td>22.20</td>\n",
       "      <td>24.98</td>\n",
       "    </tr>\n",
       "    <tr>\n",
       "      <th>Brandy Butter</th>\n",
       "      <td>1.13</td>\n",
       "      <td>1.58</td>\n",
       "      <td>1.30</td>\n",
       "      <td>1.20</td>\n",
       "      <td>1.21</td>\n",
       "      <td>1.20</td>\n",
       "      <td>0.99</td>\n",
       "      <td>1.08</td>\n",
       "      <td>1.12</td>\n",
       "      <td>1.18</td>\n",
       "      <td>0.94</td>\n",
       "    </tr>\n",
       "    <tr>\n",
       "      <th>Brussels Sprouts</th>\n",
       "      <td>3.66</td>\n",
       "      <td>4.39</td>\n",
       "      <td>3.92</td>\n",
       "      <td>3.23</td>\n",
       "      <td>9.56</td>\n",
       "      <td>3.68</td>\n",
       "      <td>4.07</td>\n",
       "      <td>4.03</td>\n",
       "      <td>3.80</td>\n",
       "      <td>3.57</td>\n",
       "      <td>4.07</td>\n",
       "    </tr>\n",
       "    <tr>\n",
       "      <th>Carrots</th>\n",
       "      <td>2.79</td>\n",
       "      <td>2.96</td>\n",
       "      <td>2.22</td>\n",
       "      <td>1.99</td>\n",
       "      <td>2.20</td>\n",
       "      <td>2.07</td>\n",
       "      <td>2.16</td>\n",
       "      <td>1.98</td>\n",
       "      <td>2.18</td>\n",
       "      <td>2.09</td>\n",
       "      <td>2.04</td>\n",
       "    </tr>\n",
       "    <tr>\n",
       "      <th>Christmas Crackers</th>\n",
       "      <td>11.54</td>\n",
       "      <td>11.04</td>\n",
       "      <td>8.45</td>\n",
       "      <td>7.50</td>\n",
       "      <td>8.40</td>\n",
       "      <td>8.84</td>\n",
       "      <td>8.55</td>\n",
       "      <td>8.40</td>\n",
       "      <td>7.67</td>\n",
       "      <td>7.73</td>\n",
       "      <td>10.90</td>\n",
       "    </tr>\n",
       "    <tr>\n",
       "      <th>Cranberry Sauce</th>\n",
       "      <td>0.63</td>\n",
       "      <td>0.58</td>\n",
       "      <td>0.58</td>\n",
       "      <td>0.56</td>\n",
       "      <td>0.50</td>\n",
       "      <td>0.57</td>\n",
       "      <td>0.61</td>\n",
       "      <td>0.54</td>\n",
       "      <td>0.50</td>\n",
       "      <td>0.52</td>\n",
       "      <td>0.57</td>\n",
       "    </tr>\n",
       "    <tr>\n",
       "      <th>Fresh Turkey</th>\n",
       "      <td>7.72</td>\n",
       "      <td>6.94</td>\n",
       "      <td>10.45</td>\n",
       "      <td>8.30</td>\n",
       "      <td>9.61</td>\n",
       "      <td>7.58</td>\n",
       "      <td>9.38</td>\n",
       "      <td>8.38</td>\n",
       "      <td>8.25</td>\n",
       "      <td>7.50</td>\n",
       "      <td>8.34</td>\n",
       "    </tr>\n",
       "    <tr>\n",
       "      <th>Frozen Carrots</th>\n",
       "      <td>1.59</td>\n",
       "      <td>1.50</td>\n",
       "      <td>1.16</td>\n",
       "      <td>1.30</td>\n",
       "      <td>1.16</td>\n",
       "      <td>1.00</td>\n",
       "      <td>0.96</td>\n",
       "      <td>0.94</td>\n",
       "      <td>0.99</td>\n",
       "      <td>1.14</td>\n",
       "      <td>1.21</td>\n",
       "    </tr>\n",
       "    <tr>\n",
       "      <th>Frozen Turkey</th>\n",
       "      <td>3.40</td>\n",
       "      <td>3.40</td>\n",
       "      <td>3.99</td>\n",
       "      <td>3.42</td>\n",
       "      <td>4.94</td>\n",
       "      <td>5.12</td>\n",
       "      <td>5.07</td>\n",
       "      <td>4.81</td>\n",
       "      <td>5.01</td>\n",
       "      <td>4.81</td>\n",
       "      <td>5.37</td>\n",
       "    </tr>\n",
       "    <tr>\n",
       "      <th>Gammons &amp; Hams</th>\n",
       "      <td>31.21</td>\n",
       "      <td>28.60</td>\n",
       "      <td>27.72</td>\n",
       "      <td>29.61</td>\n",
       "      <td>26.21</td>\n",
       "      <td>28.65</td>\n",
       "      <td>26.27</td>\n",
       "      <td>25.85</td>\n",
       "      <td>25.28</td>\n",
       "      <td>25.23</td>\n",
       "      <td>26.46</td>\n",
       "    </tr>\n",
       "    <tr>\n",
       "      <th>Gravy</th>\n",
       "      <td>1.04</td>\n",
       "      <td>1.02</td>\n",
       "      <td>1.03</td>\n",
       "      <td>0.98</td>\n",
       "      <td>1.05</td>\n",
       "      <td>0.98</td>\n",
       "      <td>0.99</td>\n",
       "      <td>1.10</td>\n",
       "      <td>1.26</td>\n",
       "      <td>1.16</td>\n",
       "      <td>1.21</td>\n",
       "    </tr>\n",
       "    <tr>\n",
       "      <th>Parsnips</th>\n",
       "      <td>1.23</td>\n",
       "      <td>1.03</td>\n",
       "      <td>1.19</td>\n",
       "      <td>0.97</td>\n",
       "      <td>1.02</td>\n",
       "      <td>0.93</td>\n",
       "      <td>0.82</td>\n",
       "      <td>0.88</td>\n",
       "      <td>0.80</td>\n",
       "      <td>0.86</td>\n",
       "      <td>0.68</td>\n",
       "    </tr>\n",
       "    <tr>\n",
       "      <th>Pies</th>\n",
       "      <td>1.65</td>\n",
       "      <td>1.77</td>\n",
       "      <td>1.52</td>\n",
       "      <td>1.44</td>\n",
       "      <td>1.50</td>\n",
       "      <td>1.88</td>\n",
       "      <td>1.95</td>\n",
       "      <td>1.90</td>\n",
       "      <td>1.76</td>\n",
       "      <td>1.81</td>\n",
       "      <td>1.81</td>\n",
       "    </tr>\n",
       "    <tr>\n",
       "      <th>Potatoes</th>\n",
       "      <td>1.71</td>\n",
       "      <td>1.63</td>\n",
       "      <td>1.54</td>\n",
       "      <td>1.66</td>\n",
       "      <td>1.34</td>\n",
       "      <td>1.00</td>\n",
       "      <td>1.66</td>\n",
       "      <td>1.32</td>\n",
       "      <td>1.53</td>\n",
       "      <td>2.10</td>\n",
       "      <td>2.40</td>\n",
       "    </tr>\n",
       "    <tr>\n",
       "      <th>Red Wine</th>\n",
       "      <td>5.01</td>\n",
       "      <td>5.26</td>\n",
       "      <td>5.38</td>\n",
       "      <td>5.46</td>\n",
       "      <td>5.86</td>\n",
       "      <td>5.67</td>\n",
       "      <td>5.47</td>\n",
       "      <td>5.36</td>\n",
       "      <td>5.28</td>\n",
       "      <td>5.14</td>\n",
       "      <td>5.75</td>\n",
       "    </tr>\n",
       "    <tr>\n",
       "      <th>Sponge Pudding</th>\n",
       "      <td>6.09</td>\n",
       "      <td>5.92</td>\n",
       "      <td>5.10</td>\n",
       "      <td>4.99</td>\n",
       "      <td>5.48</td>\n",
       "      <td>5.35</td>\n",
       "      <td>5.67</td>\n",
       "      <td>5.25</td>\n",
       "      <td>5.06</td>\n",
       "      <td>5.17</td>\n",
       "      <td>5.44</td>\n",
       "    </tr>\n",
       "    <tr>\n",
       "      <th>Stuffing</th>\n",
       "      <td>5.00</td>\n",
       "      <td>6.55</td>\n",
       "      <td>5.86</td>\n",
       "      <td>4.87</td>\n",
       "      <td>5.06</td>\n",
       "      <td>5.23</td>\n",
       "      <td>5.57</td>\n",
       "      <td>5.63</td>\n",
       "      <td>6.12</td>\n",
       "      <td>6.05</td>\n",
       "      <td>5.98</td>\n",
       "    </tr>\n",
       "    <tr>\n",
       "      <th>Stuffing &amp; Dumpling Mix</th>\n",
       "      <td>0.73</td>\n",
       "      <td>0.72</td>\n",
       "      <td>0.79</td>\n",
       "      <td>0.69</td>\n",
       "      <td>0.79</td>\n",
       "      <td>0.69</td>\n",
       "      <td>0.73</td>\n",
       "      <td>0.73</td>\n",
       "      <td>0.72</td>\n",
       "      <td>0.72</td>\n",
       "      <td>0.83</td>\n",
       "    </tr>\n",
       "    <tr>\n",
       "      <th>White Wine</th>\n",
       "      <td>4.99</td>\n",
       "      <td>5.07</td>\n",
       "      <td>5.31</td>\n",
       "      <td>5.40</td>\n",
       "      <td>5.41</td>\n",
       "      <td>5.15</td>\n",
       "      <td>5.00</td>\n",
       "      <td>5.09</td>\n",
       "      <td>4.97</td>\n",
       "      <td>5.06</td>\n",
       "      <td>5.69</td>\n",
       "    </tr>\n",
       "    <tr>\n",
       "      <th>Totals</th>\n",
       "      <td>116.09</td>\n",
       "      <td>114.67</td>\n",
       "      <td>112.25</td>\n",
       "      <td>108.30</td>\n",
       "      <td>116.54</td>\n",
       "      <td>111.14</td>\n",
       "      <td>111.01</td>\n",
       "      <td>107.91</td>\n",
       "      <td>108.63</td>\n",
       "      <td>110.41</td>\n",
       "      <td>119.94</td>\n",
       "    </tr>\n",
       "  </tbody>\n",
       "</table>\n",
       "</div>"
      ],
      "text/plain": [
       "                           2006    2007    2008    2009    2010    2011  \\\n",
       "Product Family                                                            \n",
       "Beers & Lagers             6.73    6.28    5.82    6.07    5.71    5.38   \n",
       "Blended Whisky            18.26   18.42   18.90   18.68   19.54   20.16   \n",
       "Brandy Butter              1.13    1.58    1.30    1.20    1.21    1.20   \n",
       "Brussels Sprouts           3.66    4.39    3.92    3.23    9.56    3.68   \n",
       "Carrots                    2.79    2.96    2.22    1.99    2.20    2.07   \n",
       "Christmas Crackers        11.54   11.04    8.45    7.50    8.40    8.84   \n",
       "Cranberry Sauce            0.63    0.58    0.58    0.56    0.50    0.57   \n",
       "Fresh Turkey               7.72    6.94   10.45    8.30    9.61    7.58   \n",
       "Frozen Carrots             1.59    1.50    1.16    1.30    1.16    1.00   \n",
       "Frozen Turkey              3.40    3.40    3.99    3.42    4.94    5.12   \n",
       "Gammons & Hams            31.21   28.60   27.72   29.61   26.21   28.65   \n",
       "Gravy                      1.04    1.02    1.03    0.98    1.05    0.98   \n",
       "Parsnips                   1.23    1.03    1.19    0.97    1.02    0.93   \n",
       "Pies                       1.65    1.77    1.52    1.44    1.50    1.88   \n",
       "Potatoes                   1.71    1.63    1.54    1.66    1.34    1.00   \n",
       "Red Wine                   5.01    5.26    5.38    5.46    5.86    5.67   \n",
       "Sponge Pudding             6.09    5.92    5.10    4.99    5.48    5.35   \n",
       "Stuffing                   5.00    6.55    5.86    4.87    5.06    5.23   \n",
       "Stuffing & Dumpling Mix    0.73    0.72    0.79    0.69    0.79    0.69   \n",
       "White Wine                 4.99    5.07    5.31    5.40    5.41    5.15   \n",
       "Totals                   116.09  114.67  112.25  108.30  116.54  111.14   \n",
       "\n",
       "                           2012    2013    2014    2015    2016  \n",
       "Product Family                                                   \n",
       "Beers & Lagers             4.99    4.46    4.49    6.36    5.26  \n",
       "Blended Whisky            20.09   20.18   21.83   22.20   24.98  \n",
       "Brandy Butter              0.99    1.08    1.12    1.18    0.94  \n",
       "Brussels Sprouts           4.07    4.03    3.80    3.57    4.07  \n",
       "Carrots                    2.16    1.98    2.18    2.09    2.04  \n",
       "Christmas Crackers         8.55    8.40    7.67    7.73   10.90  \n",
       "Cranberry Sauce            0.61    0.54    0.50    0.52    0.57  \n",
       "Fresh Turkey               9.38    8.38    8.25    7.50    8.34  \n",
       "Frozen Carrots             0.96    0.94    0.99    1.14    1.21  \n",
       "Frozen Turkey              5.07    4.81    5.01    4.81    5.37  \n",
       "Gammons & Hams            26.27   25.85   25.28   25.23   26.46  \n",
       "Gravy                      0.99    1.10    1.26    1.16    1.21  \n",
       "Parsnips                   0.82    0.88    0.80    0.86    0.68  \n",
       "Pies                       1.95    1.90    1.76    1.81    1.81  \n",
       "Potatoes                   1.66    1.32    1.53    2.10    2.40  \n",
       "Red Wine                   5.47    5.36    5.28    5.14    5.75  \n",
       "Sponge Pudding             5.67    5.25    5.06    5.17    5.44  \n",
       "Stuffing                   5.57    5.63    6.12    6.05    5.98  \n",
       "Stuffing & Dumpling Mix    0.73    0.73    0.72    0.72    0.83  \n",
       "White Wine                 5.00    5.09    4.97    5.06    5.69  \n",
       "Totals                   111.01  107.91  108.63  110.41  119.94  "
      ]
     },
     "execution_count": 5,
     "metadata": {},
     "output_type": "execute_result"
    }
   ],
   "source": [
    "food_data"
   ]
  },
  {
   "cell_type": "markdown",
   "metadata": {},
   "source": [
    "We may see that we have a total for each year at the bottom of each column. This will throw off the scale to let's ignor it. We can do this by just taking the `n - 1` first rows which in python is done by exclusing the final -1th index.\n",
    "\n",
    "Let's remove the totals row."
   ]
  },
  {
   "cell_type": "code",
   "execution_count": 6,
   "metadata": {
    "collapsed": true
   },
   "outputs": [],
   "source": [
    "year_data = food_data[:-1]"
   ]
  },
  {
   "cell_type": "markdown",
   "metadata": {},
   "source": [
    "We should also change the column headings to strings. This means that Pandas and matplotlib will treat them as categories rather than a numberical series which is clearly how we see this data in the case of the bar chart we are plotting."
   ]
  },
  {
   "cell_type": "code",
   "execution_count": 7,
   "metadata": {},
   "outputs": [],
   "source": [
    "year_data.columns = year_data.columns.astype(str)"
   ]
  },
  {
   "cell_type": "markdown",
   "metadata": {},
   "source": [
    "To make it easy let's plot only for 2016.\n",
    "\n",
    "First let's take the data for that year alone using Pandas indexing and then plot a simple bar chart.\n",
    "\n",
    "This time we use pandas plotting not matplotlib for a change."
   ]
  },
  {
   "cell_type": "code",
   "execution_count": 8,
   "metadata": {},
   "outputs": [
    {
     "data": {
      "text/plain": [
       "<matplotlib.text.Text at 0x971ec50>"
      ]
     },
     "execution_count": 8,
     "metadata": {},
     "output_type": "execute_result"
    },
    {
     "data": {
      "image/png": "[encoded data removed]",
      "text/plain": [
       "<matplotlib.figure.Figure at 0x9723208>"
      ]
     },
     "metadata": {},
     "output_type": "display_data"
    }
   ],
   "source": [
    "data_2016 = year_data['2016']\n",
    "bar_plot = data_2016.plot(kind='bar')\n",
    "bar_plot.set_ylabel('Price (£)')"
   ]
  },
  {
   "cell_type": "markdown",
   "metadata": {},
   "source": [
    "It's kind of awkward reading rotated labels. Let's try plotting a different way, a horizontal bar chart."
   ]
  },
  {
   "cell_type": "code",
   "execution_count": 9,
   "metadata": {},
   "outputs": [
    {
     "data": {
      "text/plain": [
       "<matplotlib.text.Text at 0xa706fd0>"
      ]
     },
     "execution_count": 9,
     "metadata": {},
     "output_type": "execute_result"
    },
    {
     "data": {
      "image/png": "[encoded data removed]",
      "text/plain": [
       "<matplotlib.figure.Figure at 0xa7cf278>"
      ]
     },
     "metadata": {},
     "output_type": "display_data"
    }
   ],
   "source": [
    "bar_plot = data_2016.plot(kind='barh')\n",
    "bar_plot.set_xlabel('Price (£)')"
   ]
  },
  {
   "cell_type": "markdown",
   "metadata": {},
   "source": [
    "## Histograms\n",
    "Thoughtfully matplotlib has some built in tooling for hisotgrams. No need to calculate frequencies and define bar widths. Just set a list of 'bins' and tell pandas you want a histogram and consider it done."
   ]
  },
  {
   "cell_type": "code",
   "execution_count": 21,
   "metadata": {},
   "outputs": [
    {
     "data": {
      "text/plain": [
       "<matplotlib.text.Text at 0xaf67ef0>"
      ]
     },
     "execution_count": 21,
     "metadata": {},
     "output_type": "execute_result"
    },
    {
     "data": {
      "image/png": "[encoded data removed]",
      "text/plain": [
       "<matplotlib.figure.Figure at 0xafe1208>"
      ]
     },
     "metadata": {},
     "output_type": "display_data"
    }
   ],
   "source": [
    "plt.hist(data_2016, bins = [0,1,2,3,4,5,6,7,8,9,10,15,20,25,30])\n",
    "plt.xlabel('Price (£)')\n",
    "plt.ylabel('Frequency')"
   ]
  },
  {
   "cell_type": "markdown",
   "metadata": {},
   "source": [
    "The more astute amongst the audeience may notice that the above is simply a plot of frequencies rather than the fequency densities usually favoured in histograms. Let's create another histogram using this data and frequency densities.\n",
    "\n",
    "Again matplotlib makes this easy. We just need to supply a normed = 1 argument to the call to plot the histogram."
   ]
  },
  {
   "cell_type": "code",
   "execution_count": 23,
   "metadata": {},
   "outputs": [
    {
     "data": {
      "text/plain": [
       "<matplotlib.text.Text at 0xafcea58>"
      ]
     },
     "execution_count": 23,
     "metadata": {},
     "output_type": "execute_result"
    },
    {
     "data": {
      "image/png": "[encoded data removed]",
      "text/plain": [
       "<matplotlib.figure.Figure at 0xaf1bd68>"
      ]
     },
     "metadata": {},
     "output_type": "display_data"
    }
   ],
   "source": [
    "plt.hist(data_2016, bins = [0,1,2,3,4,5,6,7,8,9,10,15,20,25,30], normed = 1)\n",
    "plt.xlabel('Price (£)')\n",
    "plt.ylabel('Frequency Density')"
   ]
  },
  {
   "cell_type": "markdown",
   "metadata": {},
   "source": [
    "### The Normal Distribution\n",
    "Finally let's make a chart we should also be familiar with, the normal distribution. This shows a couple of different capabilities of the various python packages we're using a pulls all the data visualisation work so far together.\n",
    "\n",
    "We use NumPy's randn function to get 100,000 random  values from a standard normal distribution. We then split the values into 100 equally sized bins to plot."
   ]
  },
  {
   "cell_type": "code",
   "execution_count": 27,
   "metadata": {},
   "outputs": [
    {
     "data": {
      "text/plain": [
       "<matplotlib.text.Text at 0xc2db240>"
      ]
     },
     "execution_count": 27,
     "metadata": {},
     "output_type": "execute_result"
    },
    {
     "data": {
      "image/png": "[encoded data removed]",
      "text/plain": [
       "<matplotlib.figure.Figure at 0xaec2da0>"
      ]
     },
     "metadata": {},
     "output_type": "display_data"
    }
   ],
   "source": [
    "mean = 100\n",
    "standard_deviation = 15\n",
    "values = mean + standard_deviation * np.random.randn(10000)\n",
    "number_of_bins = 100\n",
    "plt.hist(values, number_of_bins, normed=1)\n",
    "plt.title('The Normal Distribution')\n",
    "plt.ylabel('Probability')"
   ]
  },
  {
   "cell_type": "markdown",
   "metadata": {},
   "source": [
    "Let's also finally add a summary of the values used for the plot to give some measures to the plot."
   ]
  },
  {
   "cell_type": "code",
   "execution_count": 35,
   "metadata": {},
   "outputs": [
    {
     "data": {
      "text/html": [
       "<div>\n",
       "<table border=\"1\" class=\"dataframe\">\n",
       "  <thead>\n",
       "    <tr style=\"text-align: right;\">\n",
       "      <th></th>\n",
       "      <th>0</th>\n",
       "    </tr>\n",
       "  </thead>\n",
       "  <tbody>\n",
       "    <tr>\n",
       "      <th>count</th>\n",
       "      <td>10000.000000</td>\n",
       "    </tr>\n",
       "    <tr>\n",
       "      <th>mean</th>\n",
       "      <td>99.941782</td>\n",
       "    </tr>\n",
       "    <tr>\n",
       "      <th>std</th>\n",
       "      <td>14.970648</td>\n",
       "    </tr>\n",
       "    <tr>\n",
       "      <th>min</th>\n",
       "      <td>44.018553</td>\n",
       "    </tr>\n",
       "    <tr>\n",
       "      <th>25%</th>\n",
       "      <td>89.877262</td>\n",
       "    </tr>\n",
       "    <tr>\n",
       "      <th>50%</th>\n",
       "      <td>99.771073</td>\n",
       "    </tr>\n",
       "    <tr>\n",
       "      <th>75%</th>\n",
       "      <td>110.190825</td>\n",
       "    </tr>\n",
       "    <tr>\n",
       "      <th>max</th>\n",
       "      <td>163.374224</td>\n",
       "    </tr>\n",
       "  </tbody>\n",
       "</table>\n",
       "</div>"
      ],
      "text/plain": [
       "                  0\n",
       "count  10000.000000\n",
       "mean      99.941782\n",
       "std       14.970648\n",
       "min       44.018553\n",
       "25%       89.877262\n",
       "50%       99.771073\n",
       "75%      110.190825\n",
       "max      163.374224"
      ]
     },
     "execution_count": 35,
     "metadata": {},
     "output_type": "execute_result"
    }
   ],
   "source": [
    "values.describe()"
   ]
  },
  {
   "cell_type": "markdown",
   "metadata": {},
   "source": [
    "The normal distribution is not perfect, but what more would you want from a stochastic process?"
   ]
  },
  {
   "cell_type": "markdown",
   "metadata": {},
   "source": [
    "This tutorial follows the work of Columbia Univerisity's Application Development Initative for their 2017 DevFest.\n",
    "We will continue to follow this as we move forwards. The orignal tutorial can be found <a href=\"https://devfe.st/learn/datascience/\">here</a>.\n",
    "\n",
    "Our thanks to Lucas Schuermann, Rachel Zhang, Zach Robertson, Jillian Knoll and Ashutosh Nanda.\n",
    "\n",
    "<h4>Questions? <a href=\"mailto:ian.davies@moodys.com\">Contact me by email</a></h4>"
   ]
  }
 ],
 "metadata": {
  "kernelspec": {
   "display_name": "Python 3",
   "language": "python",
   "name": "python3"
  },
  "language_info": {
   "codemirror_mode": {
    "name": "ipython",
    "version": 3
   },
   "file_extension": ".py",
   "mimetype": "text/x-python",
   "name": "python",
   "nbconvert_exporter": "python",
   "pygments_lexer": "ipython3",
   "version": "3.6.4"
  }
 },
 "nbformat": 4,
 "nbformat_minor": 2
}
