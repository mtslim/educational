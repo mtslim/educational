{
 "cells": [
  {
   "cell_type": "markdown",
   "metadata": {},
   "source": [
    "# 16 - Automated Trading\n",
    "\n",
    "- Capital management\n",
    "- ML based trading strategy\n",
    "- Online algorithm\n",
    "- Infrastructure and deployment\n",
    "- Logging and monitoring\n",
    "\n",
    "### ML based trading strategy\n",
    "\n",
    "Combination of ML with the historical data from the FXCM REST API to backtest the strategy. Uses the bid-ask spread as proportional transaction costs.\n",
    "\n",
    "__Vectorised backtesting__\n",
    "- Intraday data - in this case the five minute bars.\n",
    "- Connect to FXCM ans retrieve five minute bar data for the month"
   ]
  },
  {
   "cell_type": "code",
   "execution_count": 1,
   "metadata": {},
   "outputs": [
    {
     "data": {
      "text/plain": [
       "'1.2.4'"
      ]
     },
     "execution_count": 1,
     "metadata": {},
     "output_type": "execute_result"
    }
   ],
   "source": [
    "import fxcmpy\n",
    "\n",
    "fxcmpy.__version__"
   ]
  },
  {
   "cell_type": "code",
   "execution_count": 2,
   "metadata": {},
   "outputs": [],
   "source": [
    "api = fxcmpy.fxcmpy(config_file='fxcm.cfg')"
   ]
  },
  {
   "cell_type": "code",
   "execution_count": 4,
   "metadata": {},
   "outputs": [
    {
     "data": {
      "text/html": [
       "<div>\n",
       "<style scoped>\n",
       "    .dataframe tbody tr th:only-of-type {\n",
       "        vertical-align: middle;\n",
       "    }\n",
       "\n",
       "    .dataframe tbody tr th {\n",
       "        vertical-align: top;\n",
       "    }\n",
       "\n",
       "    .dataframe thead th {\n",
       "        text-align: right;\n",
       "    }\n",
       "</style>\n",
       "<table border=\"1\" class=\"dataframe\">\n",
       "  <thead>\n",
       "    <tr style=\"text-align: right;\">\n",
       "      <th></th>\n",
       "      <th>askopen</th>\n",
       "      <th>askclose</th>\n",
       "      <th>askhigh</th>\n",
       "      <th>asklow</th>\n",
       "      <th>tickqty</th>\n",
       "    </tr>\n",
       "    <tr>\n",
       "      <th>date</th>\n",
       "      <th></th>\n",
       "      <th></th>\n",
       "      <th></th>\n",
       "      <th></th>\n",
       "      <th></th>\n",
       "    </tr>\n",
       "  </thead>\n",
       "  <tbody>\n",
       "    <tr>\n",
       "      <th>2018-06-29 20:35:00</th>\n",
       "      <td>1.16865</td>\n",
       "      <td>1.16885</td>\n",
       "      <td>1.16899</td>\n",
       "      <td>1.16842</td>\n",
       "      <td>601</td>\n",
       "    </tr>\n",
       "    <tr>\n",
       "      <th>2018-06-29 20:40:00</th>\n",
       "      <td>1.16885</td>\n",
       "      <td>1.16856</td>\n",
       "      <td>1.16901</td>\n",
       "      <td>1.16855</td>\n",
       "      <td>387</td>\n",
       "    </tr>\n",
       "    <tr>\n",
       "      <th>2018-06-29 20:45:00</th>\n",
       "      <td>1.16856</td>\n",
       "      <td>1.16829</td>\n",
       "      <td>1.16865</td>\n",
       "      <td>1.16825</td>\n",
       "      <td>592</td>\n",
       "    </tr>\n",
       "    <tr>\n",
       "      <th>2018-06-29 20:50:00</th>\n",
       "      <td>1.16829</td>\n",
       "      <td>1.16839</td>\n",
       "      <td>1.16849</td>\n",
       "      <td>1.16822</td>\n",
       "      <td>842</td>\n",
       "    </tr>\n",
       "    <tr>\n",
       "      <th>2018-06-29 20:55:00</th>\n",
       "      <td>1.16839</td>\n",
       "      <td>1.16864</td>\n",
       "      <td>1.16879</td>\n",
       "      <td>1.16837</td>\n",
       "      <td>540</td>\n",
       "    </tr>\n",
       "  </tbody>\n",
       "</table>\n",
       "</div>"
      ],
      "text/plain": [
       "                     askopen  askclose  askhigh   asklow  tickqty\n",
       "date                                                             \n",
       "2018-06-29 20:35:00  1.16865   1.16885  1.16899  1.16842      601\n",
       "2018-06-29 20:40:00  1.16885   1.16856  1.16901  1.16855      387\n",
       "2018-06-29 20:45:00  1.16856   1.16829  1.16865  1.16825      592\n",
       "2018-06-29 20:50:00  1.16829   1.16839  1.16849  1.16822      842\n",
       "2018-06-29 20:55:00  1.16839   1.16864  1.16879  1.16837      540"
      ]
     },
     "execution_count": 4,
     "metadata": {},
     "output_type": "execute_result"
    }
   ],
   "source": [
    "data = api.get_candles('EUR/USD', period='m5',\n",
    "                        start='2018-06-01 00:00:00',\n",
    "                        stop='2018-06-30 00:00:00')\n",
    "data.iloc[-5:, 4:]\n",
    "\n",
    "#import pandas as pd\n",
    "#data.to_csv (r'EUR-USD_5m_2018-06-01.csv', index=None, header=True)\n",
    "#data=pd.read_csv('EUR-USD_5m_2018-06-01.csv')"
   ]
  },
  {
   "cell_type": "code",
   "execution_count": 6,
   "metadata": {},
   "outputs": [
    {
     "name": "stdout",
     "output_type": "stream",
     "text": [
      "<class 'pandas.core.frame.DataFrame'>\n",
      "DatetimeIndex: 6083 entries, 2018-06-01 00:00:00 to 2018-06-29 20:55:00\n",
      "Data columns (total 9 columns):\n",
      "bidopen     6083 non-null float64\n",
      "bidclose    6083 non-null float64\n",
      "bidhigh     6083 non-null float64\n",
      "bidlow      6083 non-null float64\n",
      "askopen     6083 non-null float64\n",
      "askclose    6083 non-null float64\n",
      "askhigh     6083 non-null float64\n",
      "asklow      6083 non-null float64\n",
      "tickqty     6083 non-null int64\n",
      "dtypes: float64(8), int64(1)\n",
      "memory usage: 475.2 KB\n"
     ]
    }
   ],
   "source": [
    "data.info()"
   ]
  },
  {
   "cell_type": "code",
   "execution_count": 8,
   "metadata": {},
   "outputs": [
    {
     "data": {
      "text/plain": [
       "9.633897747821927e-05"
      ]
     },
     "execution_count": 8,
     "metadata": {},
     "output_type": "execute_result"
    }
   ],
   "source": [
    "spread = (data['askclose'] - data['bidclose']).mean()\n",
    "spread"
   ]
  },
  {
   "cell_type": "code",
   "execution_count": null,
   "metadata": {},
   "outputs": [],
   "source": []
  }
 ],
 "metadata": {
  "kernelspec": {
   "display_name": "Python 3",
   "language": "python",
   "name": "python3"
  },
  "language_info": {
   "codemirror_mode": {
    "name": "ipython",
    "version": 3
   },
   "file_extension": ".py",
   "mimetype": "text/x-python",
   "name": "python",
   "nbconvert_exporter": "python",
   "pygments_lexer": "ipython3",
   "version": "3.6.5"
  }
 },
 "nbformat": 4,
 "nbformat_minor": 2
}
